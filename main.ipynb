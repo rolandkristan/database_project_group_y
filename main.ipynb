{
 "cells": [
  {
   "cell_type": "code",
   "execution_count": 1,
   "metadata": {},
   "outputs": [],
   "source": [
    "import requests as req\n",
    "import pandas as pd\n",
    "import yfinance as yf\n",
    "\n",
    "import psycopg2\n",
    "from psycopg2.extras import execute_batch, RealDictCursor\n",
    "\n",
    "from sqlalchemy import create_engine\n"
   ]
  },
  {
   "cell_type": "code",
   "execution_count": 2,
   "metadata": {},
   "outputs": [],
   "source": [
    "### DB CONNECTION ###\n",
    "DATABASE_NAME = \"postgres\"\n",
    "HOSTNAME = \"localhost\"\n",
    "USER = \"postgres\"\n",
    "PASSWORD = \"test1234\"\n",
    "PORT=\"5432\"\n",
    "\n",
    "\n",
    "db_connection = psycopg2.connect(\n",
    "            database = DATABASE_NAME,\n",
    "            host = HOSTNAME,\n",
    "            user = USER,\n",
    "            password = PASSWORD,\n",
    "            port = PORT\n",
    "        )\n",
    "\n",
    "engine = create_engine(f'postgresql://{USER}:{PASSWORD}@{HOSTNAME}:{PORT}/{DATABASE_NAME}')"
   ]
  },
  {
   "cell_type": "code",
   "execution_count": 3,
   "metadata": {},
   "outputs": [],
   "source": [
    "## CREATE SCHEMA\n",
    "schema = \"project_db\"\n",
    "\n",
    "create_schema_query = f\"CREATE SCHEMA IF NOT EXISTS {schema};\"\n",
    "\n",
    "\n",
    "## CREATE TABLE Stock_Prices_Tbl\n",
    "create_table_stock_query = f\"\"\"CREATE TABLE IF NOT EXISTS {schema}.\"Stock_Prices_Tbl\" (\n",
    "                                    \"Stock_ID\" VARCHAR(100),\n",
    "                                    \"Date\" DATE,\n",
    "                                    \"Open_Price\" DOUBLE PRECISION,\n",
    "                                    \"Close_Price\" DOUBLE PRECISION,\n",
    "                                    \"Low\" DOUBLE PRECISION,\n",
    "                                    \"High\" DOUBLE PRECISION,\n",
    "                                    \"Volume_traded\" INTEGER,\n",
    "                                    CONSTRAINT pk_stock_prices PRIMARY KEY (\"Stock_ID\", \"Date\")\n",
    "    );\n",
    "    \"\"\"\n",
    "\n",
    "## CREATE TABLE Industry_Tbl\n",
    "create_table_industry_query = f\"\"\"CREATE TABLE IF NOT EXISTS {schema}.\"Industry_Tbl\" (\n",
    "                                    \"Activity_ID\" SERIAL,\n",
    "                                    \"Activity_Name\" VARCHAR(100),\n",
    "                                    \"Industry\" VARCHAR(100),\n",
    "                                    CONSTRAINT pk_industry PRIMARY KEY (\"Activity_ID\")\n",
    "    );\n",
    "    \"\"\"\n",
    "\n",
    "## CREATE TABLE Index_Tbl    \n",
    "create_table_index_query = f\"\"\"CREATE TABLE IF NOT EXISTS {schema}.\"Index_Tbl\" (\n",
    "                                    \"Index_ID\" VARCHAR(100),\n",
    "                                    \"Index_Name\" VARCHAR(100),\n",
    "                                    CONSTRAINT pk_index PRIMARY KEY (\"Index_ID\")\n",
    "    );\n",
    "    \"\"\"\n",
    "\n",
    "## CREATE TABLE Country_Tbl\n",
    "create_table_country_query = f\"\"\"CREATE TABLE IF NOT EXISTS {schema}.\"Country_Tbl\" (\n",
    "                                    \"Country_ID\" SERIAL,\n",
    "                                    \"Country_Name\" VARCHAR(100),\n",
    "                                    \"Economic_Region\" VARCHAR(300),\n",
    "                                    CONSTRAINT pk_country PRIMARY KEY (\"Country_ID\")\n",
    "    );\n",
    "    \"\"\"\n",
    "\n",
    "## CREATE TABLE Company_Tbl    \n",
    "create_table_company_query = f\"\"\"CREATE TABLE IF NOT EXISTS {schema}.\"Company_Tbl\" (\n",
    "                                    \"Company_ID\" VARCHAR(100),\n",
    "                                    \"Company_Name\" VARCHAR(200),\n",
    "                                    \"Activity_ID\" INTEGER,\n",
    "                                    \"Index_ID\" VARCHAR(100),\n",
    "                                    \"Country_Headquarter\" INTEGER,\n",
    "                                    CONSTRAINT pk_company PRIMARY KEY (\"Company_ID\"),\n",
    "                                    CONSTRAINT fk_activity_id FOREIGN KEY (\"Activity_ID\") REFERENCES {schema}.\"Industry_Tbl\" (\"Activity_ID\") ON DELETE SET NULL,\n",
    "                                    CONSTRAINT fk_index_id FOREIGN KEY (\"Index_ID\") REFERENCES {schema}.\"Index_Tbl\" (\"Index_ID\") ON DELETE SET NULL,\n",
    "                                    CONSTRAINT fk_country_headquarter FOREIGN KEY (\"Country_Headquarter\") REFERENCES {schema}.\"Country_Tbl\" (\"Country_ID\") ON DELETE SET NULL\n",
    "    );\n",
    "    \"\"\"\n",
    "\n",
    "## Execute Statements    \n",
    "with db_connection.cursor(cursor_factory=RealDictCursor) as cur:\n",
    "    cur.execute(create_schema_query)\n",
    "    cur.execute(create_table_stock_query)\n",
    "    cur.execute(create_table_industry_query)\n",
    "    cur.execute(create_table_country_query)\n",
    "    cur.execute(create_table_index_query)\n",
    "    cur.execute(create_table_company_query)\n",
    "    cur.connection.commit()"
   ]
  },
  {
   "cell_type": "code",
   "execution_count": 4,
   "metadata": {},
   "outputs": [],
   "source": [
    "ticker_index = \"^STOXX50E\"\n",
    "\n",
    "euro_stoxx_50_tickers = [\n",
    "    \"ABI.BR\",    # Anheuser-Busch InBev SA/NV (Belgien)\n",
    "    \"AI.PA\",     # Air Liquide S.A. (Frankreich)\n",
    "    \"AIR.PA\",    # Airbus SE (Frankreich)\n",
    "    \"ALV.DE\",    # Allianz SE (Deutschland)\n",
    "    \"ASML.AS\",   # ASML Holding N.V. (Niederlande)\n",
    "    \"BAS.DE\",    # BASF SE (Deutschland)\n",
    "    \"BBVA.MC\",   # Banco Bilbao Vizcaya Argentaria, S.A. (Spanien)\n",
    "    \"BAYN.DE\",   # Bayer AG (Deutschland)\n",
    "    \"BN.PA\",     # Danone S.A. (Frankreich)\n",
    "    \"CRG.IR\",    # CRH plc (Irland)\n",
    "    \"CS.PA\",     # AXA S.A. (früher CS war AXA; ggf. AXA.PA)\n",
    "    \"DAI.DE\",    # Mercedes-Benz Group AG (Deutschland)\n",
    "    \"DB1.DE\",    # Deutsche Boerse AG (Deutschland)\n",
    "    \"DG.PA\",     # VINCI S.A. (Frankreich) – (ehem. DG)\n",
    "    \"DPW.DE\",    # Deutsche Post AG (Deutschland)\n",
    "    \"DTE.DE\",    # Deutsche Telekom AG (Deutschland)\n",
    "    \"EN.PA\",     # Bouygues S.A. oder (ENGI.PA für Engie S.A.)\n",
    "    \"ENG.MC\",    # Enagas S.A. (Spanien) – Achtung: Je nach Indexzusammensetzung\n",
    "    \"ENEL.MI\",   # Enel S.p.A. (Italien)\n",
    "    \"ENEI.MI\",   # Eni S.p.A. (Italien)\n",
    "    \"EONGY\",     # E.ON SE (evtl. EOA.DE, je nach Handelsplatz)\n",
    "    \"FER.MC\",    # Ferrovial S.A. (Spanien)\n",
    "    \"GRF.PA\",    # Groupe Renault S.A. (Frankreich) – evtl. RNO.PA\n",
    "    \"IBE.MC\",    # Iberdrola S.A. (Spanien)\n",
    "    \"INA.MI\",    # Intesa Sanpaolo S.p.A. (Italien)\n",
    "    \"ITX.MC\",    # Industria de Diseno Textil, S.A. (Inditex) (Spanien)\n",
    "    \"KER.PA\",    # Kering S.A. (Frankreich)\n",
    "    \"MC.PA\",     # LVMH Moet Hennessy Louis Vuitton SE (Frankreich)\n",
    "    \"MUV2.DE\",   # Muenchener Rueckversicherungs-Gesellschaft AG (Münchener Rück)\n",
    "    \"NG.PA\",     # BUREAU VERITAS oder (OR.PA für L'Oreal) – hier muss man aufpassen\n",
    "    \"OR.PA\",     # L'Oreal S.A. (Frankreich)\n",
    "    \"PHIA.AS\",   # Koninklijke Philips N.V. (Niederlande)\n",
    "    \"RACE.MI\",   # Ferrari N.V. (Italien)\n",
    "    \"RI.PA\",     # Pernod Ricard S.A. (Frankreich)\n",
    "    \"SAF.PA\",    # Safran S.A. (Frankreich)\n",
    "    \"SAN.PA\",    # Sanofi S.A. (Frankreich)\n",
    "    \"SAP.DE\",    # SAP SE (Deutschland)\n",
    "    \"SBMO.AS\",   # SBM Offshore N.V. (Niederlande) - Achtung, nicht immer im Index\n",
    "    \"SGO.PA\",    # Compagnie de Saint-Gobain S.A. (Frankreich)\n",
    "    \"SIE.DE\",    # Siemens AG (Deutschland)\n",
    "    \"SLHN.SW\",   # Swiss Life Holding AG (Schweiz) - je nach Index\n",
    "    \"SREN.SW\",   # Swiss Re AG (Schweiz)\n",
    "    \"SU.PA\",     # Schneider Electric S.E. (Frankreich)\n",
    "    \"TEF.MC\",    # Telefonica S.A. (Spanien)\n",
    "    \"UCG.MI\",    # UniCredit S.p.A. (Italien)\n",
    "    \"UL.PA\",     # Unibail-Rodamco-Westfield SE (Frankreich)\n",
    "    \"VIV.PA\",    # Vivendi SE (Frankreich)\n",
    "    \"VOW3.DE\",   # Volkswagen AG (Deutschland, Vorzugsaktie)\n",
    "    \"WKL.AS\",    # Wolters Kluwer N.V. (Niederlande)\n",
    "    \"ZURN.SW\"    # Zurich Insurance Group AG (Schweiz)\n",
    "]"
   ]
  },
  {
   "cell_type": "code",
   "execution_count": 5,
   "metadata": {},
   "outputs": [],
   "source": [
    "START_TIME = \"2019-01-01\"\n",
    "END_TIME = \"2024-12-31\""
   ]
  },
  {
   "cell_type": "code",
   "execution_count": 6,
   "metadata": {},
   "outputs": [
    {
     "name": "stderr",
     "output_type": "stream",
     "text": [
      "[*********************100%***********************]  1 of 1 completed\n"
     ]
    }
   ],
   "source": [
    "# GET INDEX STOCK\n",
    "\n",
    "df_ticker = yf.download(ticker_index, start=START_TIME, end=END_TIME)\n",
    "df_ticker.columns = [col[0] for col in df_ticker.columns]\n",
    "df_ticker = df_ticker.reset_index(names=\"Date\")\n",
    "df_ticker = df_ticker.rename(columns={\"Open\":\"Open_Price\",\"Close\":\"Close_Price\",\"Volume\":\"Volume_traded\"})\n",
    "df_ticker = df_ticker.assign(Stock_ID = ticker_index)\n",
    "\n",
    "\n",
    "df_ticker = df_ticker[[\"Stock_ID\",\"Date\",\"Open_Price\",\"Close_Price\",\"Low\",\"High\",\"Volume_traded\"]]"
   ]
  },
  {
   "cell_type": "code",
   "execution_count": 7,
   "metadata": {},
   "outputs": [
    {
     "name": "stderr",
     "output_type": "stream",
     "text": [
      "[*********************100%***********************]  1 of 1 completed\n",
      "[*********************100%***********************]  1 of 1 completed\n",
      "[*********************100%***********************]  1 of 1 completed\n",
      "[*********************100%***********************]  1 of 1 completed\n",
      "[*********************100%***********************]  1 of 1 completed\n",
      "[*********************100%***********************]  1 of 1 completed\n",
      "[*********************100%***********************]  1 of 1 completed\n",
      "[*********************100%***********************]  1 of 1 completed\n",
      "[*********************100%***********************]  1 of 1 completed\n",
      "[*********************100%***********************]  1 of 1 completed\n",
      "\n",
      "1 Failed download:\n",
      "['CRG.IR']: YFTzMissingError('$%ticker%: possibly delisted; no timezone found')\n",
      "[*********************100%***********************]  1 of 1 completed\n",
      "[*********************100%***********************]  1 of 1 completed\n",
      "\n",
      "1 Failed download:\n",
      "['DAI.DE']: YFTzMissingError('$%ticker%: possibly delisted; no timezone found')\n",
      "[*********************100%***********************]  1 of 1 completed\n",
      "[*********************100%***********************]  1 of 1 completed\n",
      "[*********************100%***********************]  1 of 1 completed\n",
      "\n",
      "1 Failed download:\n",
      "['DPW.DE']: YFTzMissingError('$%ticker%: possibly delisted; no timezone found')\n",
      "[*********************100%***********************]  1 of 1 completed\n",
      "[*********************100%***********************]  1 of 1 completed\n",
      "[*********************100%***********************]  1 of 1 completed\n",
      "[*********************100%***********************]  1 of 1 completed\n",
      "[*********************100%***********************]  1 of 1 completed\n",
      "\n",
      "1 Failed download:\n",
      "['ENEI.MI']: YFPricesMissingError('$%ticker%: possibly delisted; no price data found  (1d 2019-01-01 -> 2024-12-31)')\n",
      "[*********************100%***********************]  1 of 1 completed\n",
      "[*********************100%***********************]  1 of 1 completed\n",
      "[*********************100%***********************]  1 of 1 completed\n",
      "\n",
      "1 Failed download:\n",
      "['GRF.PA']: YFTzMissingError('$%ticker%: possibly delisted; no timezone found')\n",
      "[*********************100%***********************]  1 of 1 completed\n",
      "[*********************100%***********************]  1 of 1 completed\n",
      "\n",
      "1 Failed download:\n",
      "['INA.MI']: YFTzMissingError('$%ticker%: possibly delisted; no timezone found')\n",
      "[*********************100%***********************]  1 of 1 completed\n",
      "[*********************100%***********************]  1 of 1 completed\n",
      "[*********************100%***********************]  1 of 1 completed\n",
      "[*********************100%***********************]  1 of 1 completed\n",
      "[*********************100%***********************]  1 of 1 completed\n",
      "\n",
      "1 Failed download:\n",
      "['NG.PA']: YFTzMissingError('$%ticker%: possibly delisted; no timezone found')\n",
      "[*********************100%***********************]  1 of 1 completed\n",
      "[*********************100%***********************]  1 of 1 completed\n",
      "[*********************100%***********************]  1 of 1 completed\n",
      "[*********************100%***********************]  1 of 1 completed\n",
      "[*********************100%***********************]  1 of 1 completed\n",
      "[*********************100%***********************]  1 of 1 completed\n",
      "[*********************100%***********************]  1 of 1 completed\n",
      "[*********************100%***********************]  1 of 1 completed\n",
      "[*********************100%***********************]  1 of 1 completed\n",
      "[*********************100%***********************]  1 of 1 completed\n",
      "[*********************100%***********************]  1 of 1 completed\n",
      "[*********************100%***********************]  1 of 1 completed\n",
      "[*********************100%***********************]  1 of 1 completed\n",
      "[*********************100%***********************]  1 of 1 completed\n",
      "[*********************100%***********************]  1 of 1 completed\n",
      "[*********************100%***********************]  1 of 1 completed\n",
      "[*********************100%***********************]  1 of 1 completed\n",
      "[*********************100%***********************]  1 of 1 completed\n",
      "[*********************100%***********************]  1 of 1 completed\n",
      "[*********************100%***********************]  1 of 1 completed\n"
     ]
    }
   ],
   "source": [
    "# GET COMPANIES STOCK\n",
    "\n",
    "for ticker in euro_stoxx_50_tickers:\n",
    "    data = yf.download(ticker, start=START_TIME, end=END_TIME)\n",
    "    data.columns = [col[0] for col in data.columns]\n",
    "    data = data.reset_index(names=\"Date\")\n",
    "    data = data.rename(columns={\"Open\":\"Open_Price\",\"Close\":\"Close_Price\",\"Volume\":\"Volume_traded\"})\n",
    "    data = data.assign(Stock_ID = ticker)\n",
    "    \n",
    "    data = data[[\"Stock_ID\",\"Date\",\"Open_Price\",\"Close_Price\",\"Low\",\"High\",\"Volume_traded\"]]\n",
    "    \n",
    "    df_ticker = pd.concat([df_ticker, data], ignore_index=True, sort=False)\n",
    "    \n",
    "    \n",
    "## FAILED ###\n",
    "# 'CRG.IR'\n",
    "# 'DAI.DE'\n",
    "# 'DPW.DE'\n",
    "# 'ENEI.MI'\n",
    "# 'GRF.PA'\n",
    "# 'INA.MI'\n",
    "# 'NG.PA'"
   ]
  },
  {
   "cell_type": "code",
   "execution_count": 8,
   "metadata": {},
   "outputs": [
    {
     "data": {
      "text/plain": [
       "261"
      ]
     },
     "execution_count": 8,
     "metadata": {},
     "output_type": "execute_result"
    }
   ],
   "source": [
    "## WRITE DATA INTO Stock_Prices_Tbl\n",
    "\n",
    "df_ticker.to_sql(\n",
    "    name=\"Stock_Prices_Tbl\",\n",
    "    con=engine,\n",
    "    schema=schema,\n",
    "    if_exists=\"replace\",\n",
    "    index=False\n",
    ")"
   ]
  },
  {
   "cell_type": "code",
   "execution_count": 9,
   "metadata": {},
   "outputs": [
    {
     "data": {
      "text/plain": [
       "8"
      ]
     },
     "execution_count": 9,
     "metadata": {},
     "output_type": "execute_result"
    }
   ],
   "source": [
    "## GET AND WRITE DATA INTO Country_Tbl\n",
    "\n",
    "country = pd.read_csv(\"Country_tbl.csv\", sep=\";\", encoding=\"utf-8\")\n",
    "\n",
    "country.to_sql(\n",
    "    name=\"Country_Tbl\",\n",
    "    con=engine,\n",
    "    schema=schema,\n",
    "    if_exists=\"append\",\n",
    "    index=False\n",
    ")"
   ]
  },
  {
   "cell_type": "code",
   "execution_count": 10,
   "metadata": {},
   "outputs": [
    {
     "data": {
      "text/plain": [
       "30"
      ]
     },
     "execution_count": 10,
     "metadata": {},
     "output_type": "execute_result"
    }
   ],
   "source": [
    "## GET AND WRITE DATA INTO Industry_Tbl\n",
    "\n",
    "industry = pd.read_csv(\"Industry_tbl.csv\", sep=\";\", encoding=\"utf-8\")\n",
    "\n",
    "industry.to_sql(\n",
    "    name=\"Industry_Tbl\",\n",
    "    con=engine,\n",
    "    schema=schema,\n",
    "    if_exists=\"append\",\n",
    "    index=False\n",
    ")"
   ]
  },
  {
   "cell_type": "code",
   "execution_count": 11,
   "metadata": {},
   "outputs": [
    {
     "data": {
      "text/plain": [
       "1"
      ]
     },
     "execution_count": 11,
     "metadata": {},
     "output_type": "execute_result"
    }
   ],
   "source": [
    "## GET AND WRITE DATA INTO Index_Tbl\n",
    "data = [\n",
    "    {\n",
    "        \"Index_ID\":\"^STOXX50E\", \n",
    "        \"Index_Name\":\"EuroStoxx 50\"\n",
    "    }\n",
    "]\n",
    "\n",
    "\n",
    "index = pd.DataFrame(data=data)\n",
    "\n",
    "index.to_sql(\n",
    "    name=\"Index_Tbl\",\n",
    "    con=engine,\n",
    "    schema=schema,\n",
    "    if_exists=\"append\",\n",
    "    index=False\n",
    ")"
   ]
  },
  {
   "cell_type": "code",
   "execution_count": 12,
   "metadata": {},
   "outputs": [
    {
     "data": {
      "text/plain": [
       "50"
      ]
     },
     "execution_count": 12,
     "metadata": {},
     "output_type": "execute_result"
    }
   ],
   "source": [
    "## GET AND WRITE DATA INTO Company_Tbl\n",
    "\n",
    "company = pd.read_csv(\"Company_tbl.csv\", sep=\";\", encoding=\"utf-8\")\n",
    "\n",
    "company.to_sql(\n",
    "    name=\"Company_Tbl\",\n",
    "    con=engine,\n",
    "    schema=schema,\n",
    "    if_exists=\"append\",\n",
    "    index=False\n",
    ")\n"
   ]
  }
 ],
 "metadata": {
  "kernelspec": {
   "display_name": ".venv_db",
   "language": "python",
   "name": "python3"
  },
  "language_info": {
   "codemirror_mode": {
    "name": "ipython",
    "version": 3
   },
   "file_extension": ".py",
   "mimetype": "text/x-python",
   "name": "python",
   "nbconvert_exporter": "python",
   "pygments_lexer": "ipython3",
   "version": "3.12.5"
  }
 },
 "nbformat": 4,
 "nbformat_minor": 2
}
