{
 "cells": [
  {
   "cell_type": "code",
   "execution_count": 1,
   "metadata": {},
   "outputs": [],
   "source": [
    "import requests as req\n",
    "import pandas as pd\n",
    "import yfinance as yf\n",
    "\n",
    "import psycopg2\n",
    "from psycopg2.extras import execute_batch, RealDictCursor\n",
    "\n",
    "from sqlalchemy import create_engine\n"
   ]
  },
  {
   "cell_type": "code",
   "execution_count": 2,
   "metadata": {},
   "outputs": [],
   "source": [
    "### DB CONNECTION ###\n",
    "DATABASE_NAME = \"postgres\"\n",
    "HOSTNAME = \"localhost\"\n",
    "USER = \"postgres\"\n",
    "PASSWORD = \"test1234\"\n",
    "PORT=\"5432\"\n",
    "\n",
    "\n",
    "db_connection = psycopg2.connect(\n",
    "            database = DATABASE_NAME,\n",
    "            host = HOSTNAME,\n",
    "            user = USER,\n",
    "            password = PASSWORD,\n",
    "            port = PORT\n",
    "        )\n",
    "\n",
    "engine = create_engine(f'postgresql://{USER}:{PASSWORD}@{HOSTNAME}:{PORT}/{DATABASE_NAME}')"
   ]
  },
  {
   "cell_type": "code",
   "execution_count": 3,
   "metadata": {},
   "outputs": [],
   "source": [
    "## CREATE SCHEMA\n",
    "schema = \"project_db\"\n",
    "\n",
    "create_schema_query = f\"CREATE SCHEMA IF NOT EXISTS {schema};\"\n",
    "\n",
    "\n",
    "## CREATE TABLE Stock_Prices_Tbl\n",
    "create_table_stock_query = f\"\"\"CREATE TABLE IF NOT EXISTS {schema}.\"Stock_Prices_Tbl\" (\n",
    "                                    \"Stock_ID\" VARCHAR(100),\n",
    "                                    \"Date\" DATE,\n",
    "                                    \"Open_Price\" DOUBLE PRECISION,\n",
    "                                    \"Close_Price\" DOUBLE PRECISION,\n",
    "                                    \"Low\" DOUBLE PRECISION,\n",
    "                                    \"High\" DOUBLE PRECISION,\n",
    "                                    \"Volume_traded\" INTEGER,\n",
    "                                    CONSTRAINT pk_stock_prices PRIMARY KEY (\"Stock_ID\", \"Date\")\n",
    "    );\n",
    "    \"\"\"\n",
    "\n",
    "## CREATE TABLE Industry_Tbl\n",
    "create_table_industry_query = f\"\"\"CREATE TABLE IF NOT EXISTS {schema}.\"Industry_Tbl\" (\n",
    "                                    \"Activity_ID\" SERIAL,\n",
    "                                    \"Activity_Name\" VARCHAR(100),\n",
    "                                    \"Industry\" VARCHAR(100),\n",
    "                                    CONSTRAINT pk_industry PRIMARY KEY (\"Activity_ID\")\n",
    "    );\n",
    "    \"\"\"\n",
    "\n",
    "## CREATE TABLE Index_Tbl    \n",
    "create_table_index_query = f\"\"\"CREATE TABLE IF NOT EXISTS {schema}.\"Index_Tbl\" (\n",
    "                                    \"Index_ID\" VARCHAR(100),\n",
    "                                    \"Index_Name\" VARCHAR(100),\n",
    "                                    CONSTRAINT pk_index PRIMARY KEY (\"Index_ID\")\n",
    "    );\n",
    "    \"\"\"\n",
    "\n",
    "## CREATE TABLE Country_Tbl\n",
    "create_table_country_query = f\"\"\"CREATE TABLE IF NOT EXISTS {schema}.\"Country_Tbl\" (\n",
    "                                    \"Country_ID\" SERIAL,\n",
    "                                    \"Country_Name\" VARCHAR(100),\n",
    "                                    \"Economic_Region\" VARCHAR(300),\n",
    "                                    CONSTRAINT pk_country PRIMARY KEY (\"Country_ID\")\n",
    "    );\n",
    "    \"\"\"\n",
    "\n",
    "## CREATE TABLE Company_Tbl    \n",
    "create_table_company_query = f\"\"\"CREATE TABLE IF NOT EXISTS {schema}.\"Company_Tbl\" (\n",
    "                                    \"Company_ID\" VARCHAR(100),\n",
    "                                    \"Company_Name\" VARCHAR(200),\n",
    "                                    \"Activity_ID\" INTEGER,\n",
    "                                    \"Index_ID\" VARCHAR(100),\n",
    "                                    \"Country_Headquarter\" INTEGER,\n",
    "                                    CONSTRAINT pk_company PRIMARY KEY (\"Company_ID\"),\n",
    "                                    CONSTRAINT fk_activity_id FOREIGN KEY (\"Activity_ID\") REFERENCES {schema}.\"Industry_Tbl\" (\"Activity_ID\") ON DELETE SET NULL,\n",
    "                                    CONSTRAINT fk_index_id FOREIGN KEY (\"Index_ID\") REFERENCES {schema}.\"Index_Tbl\" (\"Index_ID\") ON DELETE SET NULL,\n",
    "                                    CONSTRAINT fk_country_headquarter FOREIGN KEY (\"Country_Headquarter\") REFERENCES {schema}.\"Country_Tbl\" (\"Country_ID\") ON DELETE SET NULL\n",
    "    );\n",
    "    \"\"\"\n",
    "\n",
    "## Execute Statements    \n",
    "with db_connection.cursor(cursor_factory=RealDictCursor) as cur:\n",
    "    cur.execute(create_schema_query)\n",
    "    cur.execute(create_table_stock_query)\n",
    "    cur.execute(create_table_industry_query)\n",
    "    cur.execute(create_table_country_query)\n",
    "    cur.execute(create_table_index_query)\n",
    "    cur.execute(create_table_company_query)\n",
    "    cur.connection.commit()"
   ]
  },
  {
   "cell_type": "code",
   "execution_count": 4,
   "metadata": {},
   "outputs": [],
   "source": [
    "ticker_index = \"^STOXX50E\"\n",
    "\n",
    "euro_stoxx_50_tickers = [\n",
    "    \"ABI.BR\",    # Anheuser-Busch InBev SA/NV (Belgien)\n",
    "    \"AI.PA\",     # Air Liquide S.A. (Frankreich)\n",
    "    \"AIR.PA\",    # Airbus SE (Frankreich)\n",
    "    \"ALV.DE\",    # Allianz SE (Deutschland)\n",
    "    \"ASML.AS\",   # ASML Holding N.V. (Niederlande)\n",
    "    \"BAS.DE\",    # BASF SE (Deutschland)\n",
    "    \"BBVA.MC\",   # Banco Bilbao Vizcaya Argentaria, S.A. (Spanien)\n",
    "    \"BAYN.DE\",   # Bayer AG (Deutschland)\n",
    "    \"BN.PA\",     # Danone S.A. (Frankreich)\n",
    "    \"CRG.IR\",    # CRH plc (Irland)\n",
    "    \"CS.PA\",     # AXA S.A. (früher CS war AXA; ggf. AXA.PA)\n",
    "    \"DAI.DE\",    # Mercedes-Benz Group AG (Deutschland)\n",
    "    \"DB1.DE\",    # Deutsche Boerse AG (Deutschland)\n",
    "    \"DG.PA\",     # VINCI S.A. (Frankreich) – (ehem. DG)\n",
    "    \"DPW.DE\",    # Deutsche Post AG (Deutschland)\n",
    "    \"DTE.DE\",    # Deutsche Telekom AG (Deutschland)\n",
    "    \"EN.PA\",     # Bouygues S.A. oder (ENGI.PA für Engie S.A.)\n",
    "    \"ENG.MC\",    # Enagas S.A. (Spanien) – Achtung: Je nach Indexzusammensetzung\n",
    "    \"ENEL.MI\",   # Enel S.p.A. (Italien)\n",
    "    \"ENEI.MI\",   # Eni S.p.A. (Italien)\n",
    "    \"EONGY\",     # E.ON SE (evtl. EOA.DE, je nach Handelsplatz)\n",
    "    \"FER.MC\",    # Ferrovial S.A. (Spanien)\n",
    "    \"GRF.PA\",    # Groupe Renault S.A. (Frankreich) – evtl. RNO.PA\n",
    "    \"IBE.MC\",    # Iberdrola S.A. (Spanien)\n",
    "    \"INA.MI\",    # Intesa Sanpaolo S.p.A. (Italien)\n",
    "    \"ITX.MC\",    # Industria de Diseno Textil, S.A. (Inditex) (Spanien)\n",
    "    \"KER.PA\",    # Kering S.A. (Frankreich)\n",
    "    \"MC.PA\",     # LVMH Moet Hennessy Louis Vuitton SE (Frankreich)\n",
    "    \"MUV2.DE\",   # Muenchener Rueckversicherungs-Gesellschaft AG (Münchener Rück)\n",
    "    \"NG.PA\",     # BUREAU VERITAS oder (OR.PA für L'Oreal) – hier muss man aufpassen\n",
    "    \"OR.PA\",     # L'Oreal S.A. (Frankreich)\n",
    "    \"PHIA.AS\",   # Koninklijke Philips N.V. (Niederlande)\n",
    "    \"RACE.MI\",   # Ferrari N.V. (Italien)\n",
    "    \"RI.PA\",     # Pernod Ricard S.A. (Frankreich)\n",
    "    \"SAF.PA\",    # Safran S.A. (Frankreich)\n",
    "    \"SAN.PA\",    # Sanofi S.A. (Frankreich)\n",
    "    \"SAP.DE\",    # SAP SE (Deutschland)\n",
    "    \"SBMO.AS\",   # SBM Offshore N.V. (Niederlande) - Achtung, nicht immer im Index\n",
    "    \"SGO.PA\",    # Compagnie de Saint-Gobain S.A. (Frankreich)\n",
    "    \"SIE.DE\",    # Siemens AG (Deutschland)\n",
    "    \"SLHN.SW\",   # Swiss Life Holding AG (Schweiz) - je nach Index\n",
    "    \"SREN.SW\",   # Swiss Re AG (Schweiz)\n",
    "    \"SU.PA\",     # Schneider Electric S.E. (Frankreich)\n",
    "    \"TEF.MC\",    # Telefonica S.A. (Spanien)\n",
    "    \"UCG.MI\",    # UniCredit S.p.A. (Italien)\n",
    "    \"UL.PA\",     # Unibail-Rodamco-Westfield SE (Frankreich)\n",
    "    \"VIV.PA\",    # Vivendi SE (Frankreich)\n",
    "    \"VOW3.DE\",   # Volkswagen AG (Deutschland, Vorzugsaktie)\n",
    "    \"WKL.AS\",    # Wolters Kluwer N.V. (Niederlande)\n",
    "    \"ZURN.SW\"    # Zurich Insurance Group AG (Schweiz)\n",
    "]"
   ]
  },
  {
   "cell_type": "code",
   "execution_count": 5,
   "metadata": {},
   "outputs": [],
   "source": [
    "START_TIME = \"2019-01-01\"\n",
    "END_TIME = \"2024-12-31\""
   ]
  },
  {
   "cell_type": "code",
   "execution_count": 6,
   "metadata": {},
   "outputs": [
    {
     "name": "stderr",
     "output_type": "stream",
     "text": [
      "[*********************100%***********************]  1 of 1 completed\n"
     ]
    }
   ],
   "source": [
    "# GET INDEX STOCK\n",
    "\n",
    "df_ticker = yf.download(ticker_index, start=START_TIME, end=END_TIME)\n",
    "df_ticker.columns = [col[0] for col in df_ticker.columns]\n",
    "df_ticker = df_ticker.reset_index(names=\"Date\")\n",
    "df_ticker = df_ticker.rename(columns={\"Open\":\"Open_Price\",\"Close\":\"Close_Price\",\"Volume\":\"Volume_traded\"})\n",
    "df_ticker = df_ticker.assign(Stock_ID = ticker_index)\n",
    "\n",
    "\n",
    "df_ticker = df_ticker[[\"Stock_ID\",\"Date\",\"Open_Price\",\"Close_Price\",\"Low\",\"High\",\"Volume_traded\"]]"
   ]
  },
  {
   "cell_type": "code",
   "execution_count": 7,
   "metadata": {},
   "outputs": [
    {
     "name": "stderr",
     "output_type": "stream",
     "text": [
      "[*********************100%***********************]  1 of 1 completed\n",
      "[*********************100%***********************]  1 of 1 completed\n",
      "[*********************100%***********************]  1 of 1 completed\n",
      "[*********************100%***********************]  1 of 1 completed\n",
      "[*********************100%***********************]  1 of 1 completed\n",
      "[*********************100%***********************]  1 of 1 completed\n",
      "[*********************100%***********************]  1 of 1 completed\n",
      "[*********************100%***********************]  1 of 1 completed\n",
      "[*********************100%***********************]  1 of 1 completed\n",
      "[*********************100%***********************]  1 of 1 completed\n",
      "\n",
      "1 Failed download:\n",
      "['CRG.IR']: YFTzMissingError('$%ticker%: possibly delisted; no timezone found')\n",
      "[*********************100%***********************]  1 of 1 completed\n",
      "[*********************100%***********************]  1 of 1 completed\n",
      "\n",
      "1 Failed download:\n",
      "['DAI.DE']: YFTzMissingError('$%ticker%: possibly delisted; no timezone found')\n",
      "[*********************100%***********************]  1 of 1 completed\n",
      "[*********************100%***********************]  1 of 1 completed\n",
      "[*********************100%***********************]  1 of 1 completed\n",
      "\n",
      "1 Failed download:\n",
      "['DPW.DE']: YFTzMissingError('$%ticker%: possibly delisted; no timezone found')\n",
      "[*********************100%***********************]  1 of 1 completed\n",
      "[*********************100%***********************]  1 of 1 completed\n",
      "[*********************100%***********************]  1 of 1 completed\n",
      "[*********************100%***********************]  1 of 1 completed\n",
      "[*********************100%***********************]  1 of 1 completed\n",
      "\n",
      "1 Failed download:\n",
      "['ENEI.MI']: YFPricesMissingError('$%ticker%: possibly delisted; no price data found  (1d 2019-01-01 -> 2024-12-31)')\n",
      "[*********************100%***********************]  1 of 1 completed\n",
      "[*********************100%***********************]  1 of 1 completed\n",
      "[*********************100%***********************]  1 of 1 completed\n",
      "\n",
      "1 Failed download:\n",
      "['GRF.PA']: YFTzMissingError('$%ticker%: possibly delisted; no timezone found')\n",
      "[*********************100%***********************]  1 of 1 completed\n",
      "[*********************100%***********************]  1 of 1 completed\n",
      "\n",
      "1 Failed download:\n",
      "['INA.MI']: YFTzMissingError('$%ticker%: possibly delisted; no timezone found')\n",
      "[*********************100%***********************]  1 of 1 completed\n",
      "[*********************100%***********************]  1 of 1 completed\n",
      "[*********************100%***********************]  1 of 1 completed\n",
      "[*********************100%***********************]  1 of 1 completed\n",
      "[*********************100%***********************]  1 of 1 completed\n",
      "\n",
      "1 Failed download:\n",
      "['NG.PA']: YFTzMissingError('$%ticker%: possibly delisted; no timezone found')\n",
      "[*********************100%***********************]  1 of 1 completed\n",
      "[*********************100%***********************]  1 of 1 completed\n",
      "[*********************100%***********************]  1 of 1 completed\n",
      "[*********************100%***********************]  1 of 1 completed\n",
      "[*********************100%***********************]  1 of 1 completed\n",
      "[*********************100%***********************]  1 of 1 completed\n",
      "[*********************100%***********************]  1 of 1 completed\n",
      "[*********************100%***********************]  1 of 1 completed\n",
      "[*********************100%***********************]  1 of 1 completed\n",
      "[*********************100%***********************]  1 of 1 completed\n",
      "[*********************100%***********************]  1 of 1 completed\n",
      "[*********************100%***********************]  1 of 1 completed\n",
      "[*********************100%***********************]  1 of 1 completed\n",
      "[*********************100%***********************]  1 of 1 completed\n",
      "[*********************100%***********************]  1 of 1 completed\n",
      "[*********************100%***********************]  1 of 1 completed\n",
      "[*********************100%***********************]  1 of 1 completed\n",
      "[*********************100%***********************]  1 of 1 completed\n",
      "[*********************100%***********************]  1 of 1 completed\n",
      "[*********************100%***********************]  1 of 1 completed\n"
     ]
    }
   ],
   "source": [
    "# GET COMPANIES STOCK\n",
    "\n",
    "for ticker in euro_stoxx_50_tickers:\n",
    "    data = yf.download(ticker, start=START_TIME, end=END_TIME)\n",
    "    data.columns = [col[0] for col in data.columns]\n",
    "    data = data.reset_index(names=\"Date\")\n",
    "    data = data.rename(columns={\"Open\":\"Open_Price\",\"Close\":\"Close_Price\",\"Volume\":\"Volume_traded\"})\n",
    "    data = data.assign(Stock_ID = ticker)\n",
    "    \n",
    "    data = data[[\"Stock_ID\",\"Date\",\"Open_Price\",\"Close_Price\",\"Low\",\"High\",\"Volume_traded\"]]\n",
    "    \n",
    "    df_ticker = pd.concat([df_ticker, data], ignore_index=True, sort=False)\n",
    "    \n",
    "    \n",
    "## FAILED ###\n",
    "# 'CRG.IR'\n",
    "# 'DAI.DE'\n",
    "# 'DPW.DE'\n",
    "# 'ENEI.MI'\n",
    "# 'GRF.PA'\n",
    "# 'INA.MI'\n",
    "# 'NG.PA'"
   ]
  },
  {
   "cell_type": "code",
   "execution_count": 8,
   "metadata": {},
   "outputs": [
    {
     "data": {
      "text/plain": [
       "261"
      ]
     },
     "execution_count": 8,
     "metadata": {},
     "output_type": "execute_result"
    }
   ],
   "source": [
    "## WRITE DATA INTO Stock_Prices_Tbl\n",
    "\n",
    "df_ticker.to_sql(\n",
    "    name=\"Stock_Prices_Tbl\",\n",
    "    con=engine,\n",
    "    schema=schema,\n",
    "    if_exists=\"replace\",\n",
    "    index=False\n",
    ")"
   ]
  },
  {
   "cell_type": "code",
   "execution_count": 9,
   "metadata": {},
   "outputs": [
    {
     "data": {
      "text/plain": [
       "8"
      ]
     },
     "execution_count": 9,
     "metadata": {},
     "output_type": "execute_result"
    }
   ],
   "source": [
    "## GET AND WRITE DATA INTO Country_Tbl\n",
    "\n",
    "country = pd.read_csv(\"Country_tbl.csv\", sep=\";\", encoding=\"utf-8\")\n",
    "\n",
    "country.to_sql(\n",
    "    name=\"Country_Tbl\",\n",
    "    con=engine,\n",
    "    schema=schema,\n",
    "    if_exists=\"append\",\n",
    "    index=False\n",
    ")"
   ]
  },
  {
   "cell_type": "code",
   "execution_count": 10,
   "metadata": {},
   "outputs": [
    {
     "data": {
      "text/plain": [
       "30"
      ]
     },
     "execution_count": 10,
     "metadata": {},
     "output_type": "execute_result"
    }
   ],
   "source": [
    "## GET AND WRITE DATA INTO Industry_Tbl\n",
    "\n",
    "industry = pd.read_csv(\"Industry_tbl.csv\", sep=\";\", encoding=\"utf-8\")\n",
    "\n",
    "industry.to_sql(\n",
    "    name=\"Industry_Tbl\",\n",
    "    con=engine,\n",
    "    schema=schema,\n",
    "    if_exists=\"append\",\n",
    "    index=False\n",
    ")"
   ]
  },
  {
   "cell_type": "code",
   "execution_count": 12,
   "metadata": {},
   "outputs": [
    {
     "data": {
      "text/plain": [
       "1"
      ]
     },
     "execution_count": 12,
     "metadata": {},
     "output_type": "execute_result"
    }
   ],
   "source": [
    "## GET AND WRITE DATA INTO Index_Tbl\n",
    "data = [\n",
    "    {\n",
    "        \"Index_ID\":\"^STOXX50E\", \n",
    "        \"Index_Name\":\"EuroStoxx 50\"\n",
    "    }\n",
    "]\n",
    "\n",
    "\n",
    "index = pd.DataFrame(data=data)\n",
    "\n",
    "index.to_sql(\n",
    "    name=\"Index_Tbl\",\n",
    "    con=engine,\n",
    "    schema=schema,\n",
    "    if_exists=\"append\",\n",
    "    index=False\n",
    ")"
   ]
  },
  {
   "cell_type": "code",
   "execution_count": 13,
   "metadata": {},
   "outputs": [
    {
     "ename": "IntegrityError",
     "evalue": "(psycopg2.errors.ForeignKeyViolation) insert or update on table \"Company_Tbl\" violates foreign key constraint \"fk_index_id\"\nDETAIL:  Key (Index_ID)=(^STOXX50E) is not present in table \"Index_Tbl\".\n\n[SQL: INSERT INTO project_db.\"Company_Tbl\" (\"Company_ID\", \"Company_Name\", \"Activity_ID\", \"Country_Headquarter\", \"Index_ID\") VALUES (%(Company_ID__0)s, %(Company_Name__0)s, %(Activity_ID__0)s, %(Country_Headquarter__0)s, %(Index_ID__0)s), (%(Company_ID__1)s ... 5323 characters truncated ... _ID__49)s, %(Company_Name__49)s, %(Activity_ID__49)s, %(Country_Headquarter__49)s, %(Index_ID__49)s)]\n[parameters: {'Company_ID__0': 'ABI.BR', 'Country_Headquarter__0': 4, 'Activity_ID__0': 14, 'Company_Name__0': 'Anheuser-Busch InBev SA/NV', 'Index_ID__0': '^STOXX50E', 'Company_ID__1': 'AI.PA', 'Country_Headquarter__1': 6, 'Activity_ID__1': 20, 'Company_Name__1': 'Air Liquide S.A.', 'Index_ID__1': '^STOXX50E', 'Company_ID__2': 'AIR.PA', 'Country_Headquarter__2': 5, 'Activity_ID__2': 7, 'Company_Name__2': 'Airbus SE', 'Index_ID__2': '^STOXX50E', 'Company_ID__3': 'ALV.DE', 'Country_Headquarter__3': 3, 'Activity_ID__3': 22, 'Company_Name__3': 'Allianz SE', 'Index_ID__3': '^STOXX50E', 'Company_ID__4': 'ASML.AS', 'Country_Headquarter__4': 5, 'Activity_ID__4': 6, 'Company_Name__4': 'ASML Holding N.V.', 'Index_ID__4': '^STOXX50E', 'Company_ID__5': 'BAS.DE', 'Country_Headquarter__5': 3, 'Activity_ID__5': 21, 'Company_Name__5': 'BASF SE', 'Index_ID__5': '^STOXX50E', 'Company_ID__6': 'BBVA.MC', 'Country_Headquarter__6': 8, 'Activity_ID__6': 29, 'Company_Name__6': 'Banco Bilbao Vizcaya Argentaria, S.A.', 'Index_ID__6': '^STOXX50E', 'Company_ID__7': 'BAYN.DE', 'Country_Headquarter__7': 3, 'Activity_ID__7': 18, 'Company_Name__7': 'Bayer AG', 'Index_ID__7': '^STOXX50E', 'Company_ID__8': 'BN.PA', 'Country_Headquarter__8': 6, 'Activity_ID__8': 15, 'Company_Name__8': 'Danone S.A.', 'Index_ID__8': '^STOXX50E', 'Company_ID__9': 'CRG.IR', 'Country_Headquarter__9': 1, 'Activity_ID__9': 4, 'Company_Name__9': 'CRH plc', 'Index_ID__9': '^STOXX50E' ... 150 parameters truncated ... 'Company_ID__40': 'SLHN.SW', 'Country_Headquarter__40': 2, 'Activity_ID__40': 22, 'Company_Name__40': 'Swiss Life Holding AG', 'Index_ID__40': '^STOXX50E', 'Company_ID__41': 'SREN.SW', 'Country_Headquarter__41': 2, 'Activity_ID__41': 5, 'Company_Name__41': 'Swiss Re AG', 'Index_ID__41': '^STOXX50E', 'Company_ID__42': 'SU.PA', 'Country_Headquarter__42': 6, 'Activity_ID__42': 1, 'Company_Name__42': 'Schneider Electric S.E.', 'Index_ID__42': '^STOXX50E', 'Company_ID__43': 'TEF.MC', 'Country_Headquarter__43': 8, 'Activity_ID__43': 11, 'Company_Name__43': 'Telefonica S.A.', 'Index_ID__43': '^STOXX50E', 'Company_ID__44': 'UCG.MI', 'Country_Headquarter__44': 7, 'Activity_ID__44': 25, 'Company_Name__44': 'UniCredit S.p.A.', 'Index_ID__44': '^STOXX50E', 'Company_ID__45': 'UL.PA', 'Country_Headquarter__45': 1, 'Activity_ID__45': 4, 'Company_Name__45': 'Unibail-Rodamco-Westfield SE', 'Index_ID__45': '^STOXX50E', 'Company_ID__46': 'VIV.PA', 'Country_Headquarter__46': 6, 'Activity_ID__46': 30, 'Company_Name__46': 'Vivendi SE', 'Index_ID__46': '^STOXX50E', 'Company_ID__47': 'VOW3.DE', 'Country_Headquarter__47': 3, 'Activity_ID__47': 2, 'Company_Name__47': 'Volkswagen AG (Vorzugsaktie)', 'Index_ID__47': '^STOXX50E', 'Company_ID__48': 'WKL.AS', 'Country_Headquarter__48': 5, 'Activity_ID__48': 3, 'Company_Name__48': 'Wolters Kluwer N.V.', 'Index_ID__48': '^STOXX50E', 'Company_ID__49': 'ZURN.SW', 'Country_Headquarter__49': 2, 'Activity_ID__49': 22, 'Company_Name__49': 'Zurich Insurance Group AG', 'Index_ID__49': '^STOXX50E'}]\n(Background on this error at: https://sqlalche.me/e/20/gkpj)",
     "output_type": "error",
     "traceback": [
      "\u001b[0;31m---------------------------------------------------------------------------\u001b[0m",
      "\u001b[0;31mForeignKeyViolation\u001b[0m                       Traceback (most recent call last)",
      "File \u001b[0;32m~/Programming/TUGraz/DB/.venv_db/lib/python3.12/site-packages/sqlalchemy/engine/base.py:2118\u001b[0m, in \u001b[0;36mConnection._exec_insertmany_context\u001b[0;34m(self, dialect, context)\u001b[0m\n\u001b[1;32m   2117\u001b[0m     \u001b[38;5;28;01melse\u001b[39;00m:\n\u001b[0;32m-> 2118\u001b[0m         \u001b[43mdialect\u001b[49m\u001b[38;5;241;43m.\u001b[39;49m\u001b[43mdo_execute\u001b[49m\u001b[43m(\u001b[49m\n\u001b[1;32m   2119\u001b[0m \u001b[43m            \u001b[49m\u001b[43mcursor\u001b[49m\u001b[43m,\u001b[49m\n\u001b[1;32m   2120\u001b[0m \u001b[43m            \u001b[49m\u001b[43msub_stmt\u001b[49m\u001b[43m,\u001b[49m\n\u001b[1;32m   2121\u001b[0m \u001b[43m            \u001b[49m\u001b[43msub_params\u001b[49m\u001b[43m,\u001b[49m\n\u001b[1;32m   2122\u001b[0m \u001b[43m            \u001b[49m\u001b[43mcontext\u001b[49m\u001b[43m,\u001b[49m\n\u001b[1;32m   2123\u001b[0m \u001b[43m        \u001b[49m\u001b[43m)\u001b[49m\n\u001b[1;32m   2125\u001b[0m \u001b[38;5;28;01mexcept\u001b[39;00m \u001b[38;5;167;01mBaseException\u001b[39;00m \u001b[38;5;28;01mas\u001b[39;00m e:\n",
      "File \u001b[0;32m~/Programming/TUGraz/DB/.venv_db/lib/python3.12/site-packages/sqlalchemy/engine/default.py:941\u001b[0m, in \u001b[0;36mDefaultDialect.do_execute\u001b[0;34m(self, cursor, statement, parameters, context)\u001b[0m\n\u001b[1;32m    940\u001b[0m \u001b[38;5;28;01mdef\u001b[39;00m \u001b[38;5;21mdo_execute\u001b[39m(\u001b[38;5;28mself\u001b[39m, cursor, statement, parameters, context\u001b[38;5;241m=\u001b[39m\u001b[38;5;28;01mNone\u001b[39;00m):\n\u001b[0;32m--> 941\u001b[0m     \u001b[43mcursor\u001b[49m\u001b[38;5;241;43m.\u001b[39;49m\u001b[43mexecute\u001b[49m\u001b[43m(\u001b[49m\u001b[43mstatement\u001b[49m\u001b[43m,\u001b[49m\u001b[43m \u001b[49m\u001b[43mparameters\u001b[49m\u001b[43m)\u001b[49m\n",
      "\u001b[0;31mForeignKeyViolation\u001b[0m: insert or update on table \"Company_Tbl\" violates foreign key constraint \"fk_index_id\"\nDETAIL:  Key (Index_ID)=(^STOXX50E) is not present in table \"Index_Tbl\".\n",
      "\nThe above exception was the direct cause of the following exception:\n",
      "\u001b[0;31mIntegrityError\u001b[0m                            Traceback (most recent call last)",
      "Cell \u001b[0;32mIn[13], line 5\u001b[0m\n\u001b[1;32m      1\u001b[0m \u001b[38;5;66;03m## GET AND WRITE DATA INTO Company_Tbl\u001b[39;00m\n\u001b[1;32m      3\u001b[0m company \u001b[38;5;241m=\u001b[39m pd\u001b[38;5;241m.\u001b[39mread_csv(\u001b[38;5;124m\"\u001b[39m\u001b[38;5;124mCompany_tbl.csv\u001b[39m\u001b[38;5;124m\"\u001b[39m, sep\u001b[38;5;241m=\u001b[39m\u001b[38;5;124m\"\u001b[39m\u001b[38;5;124m;\u001b[39m\u001b[38;5;124m\"\u001b[39m, encoding\u001b[38;5;241m=\u001b[39m\u001b[38;5;124m\"\u001b[39m\u001b[38;5;124mutf-8\u001b[39m\u001b[38;5;124m\"\u001b[39m)\n\u001b[0;32m----> 5\u001b[0m \u001b[43mcompany\u001b[49m\u001b[38;5;241;43m.\u001b[39;49m\u001b[43mto_sql\u001b[49m\u001b[43m(\u001b[49m\n\u001b[1;32m      6\u001b[0m \u001b[43m    \u001b[49m\u001b[43mname\u001b[49m\u001b[38;5;241;43m=\u001b[39;49m\u001b[38;5;124;43m\"\u001b[39;49m\u001b[38;5;124;43mCompany_Tbl\u001b[39;49m\u001b[38;5;124;43m\"\u001b[39;49m\u001b[43m,\u001b[49m\n\u001b[1;32m      7\u001b[0m \u001b[43m    \u001b[49m\u001b[43mcon\u001b[49m\u001b[38;5;241;43m=\u001b[39;49m\u001b[43mengine\u001b[49m\u001b[43m,\u001b[49m\n\u001b[1;32m      8\u001b[0m \u001b[43m    \u001b[49m\u001b[43mschema\u001b[49m\u001b[38;5;241;43m=\u001b[39;49m\u001b[43mschema\u001b[49m\u001b[43m,\u001b[49m\n\u001b[1;32m      9\u001b[0m \u001b[43m    \u001b[49m\u001b[43mif_exists\u001b[49m\u001b[38;5;241;43m=\u001b[39;49m\u001b[38;5;124;43m\"\u001b[39;49m\u001b[38;5;124;43mappend\u001b[39;49m\u001b[38;5;124;43m\"\u001b[39;49m\u001b[43m,\u001b[49m\n\u001b[1;32m     10\u001b[0m \u001b[43m    \u001b[49m\u001b[43mindex\u001b[49m\u001b[38;5;241;43m=\u001b[39;49m\u001b[38;5;28;43;01mFalse\u001b[39;49;00m\n\u001b[1;32m     11\u001b[0m \u001b[43m)\u001b[49m\n",
      "File \u001b[0;32m~/Programming/TUGraz/DB/.venv_db/lib/python3.12/site-packages/pandas/util/_decorators.py:333\u001b[0m, in \u001b[0;36mdeprecate_nonkeyword_arguments.<locals>.decorate.<locals>.wrapper\u001b[0;34m(*args, **kwargs)\u001b[0m\n\u001b[1;32m    327\u001b[0m \u001b[38;5;28;01mif\u001b[39;00m \u001b[38;5;28mlen\u001b[39m(args) \u001b[38;5;241m>\u001b[39m num_allow_args:\n\u001b[1;32m    328\u001b[0m     warnings\u001b[38;5;241m.\u001b[39mwarn(\n\u001b[1;32m    329\u001b[0m         msg\u001b[38;5;241m.\u001b[39mformat(arguments\u001b[38;5;241m=\u001b[39m_format_argument_list(allow_args)),\n\u001b[1;32m    330\u001b[0m         \u001b[38;5;167;01mFutureWarning\u001b[39;00m,\n\u001b[1;32m    331\u001b[0m         stacklevel\u001b[38;5;241m=\u001b[39mfind_stack_level(),\n\u001b[1;32m    332\u001b[0m     )\n\u001b[0;32m--> 333\u001b[0m \u001b[38;5;28;01mreturn\u001b[39;00m \u001b[43mfunc\u001b[49m\u001b[43m(\u001b[49m\u001b[38;5;241;43m*\u001b[39;49m\u001b[43margs\u001b[49m\u001b[43m,\u001b[49m\u001b[43m \u001b[49m\u001b[38;5;241;43m*\u001b[39;49m\u001b[38;5;241;43m*\u001b[39;49m\u001b[43mkwargs\u001b[49m\u001b[43m)\u001b[49m\n",
      "File \u001b[0;32m~/Programming/TUGraz/DB/.venv_db/lib/python3.12/site-packages/pandas/core/generic.py:3087\u001b[0m, in \u001b[0;36mNDFrame.to_sql\u001b[0;34m(self, name, con, schema, if_exists, index, index_label, chunksize, dtype, method)\u001b[0m\n\u001b[1;32m   2889\u001b[0m \u001b[38;5;250m\u001b[39m\u001b[38;5;124;03m\"\"\"\u001b[39;00m\n\u001b[1;32m   2890\u001b[0m \u001b[38;5;124;03mWrite records stored in a DataFrame to a SQL database.\u001b[39;00m\n\u001b[1;32m   2891\u001b[0m \n\u001b[0;32m   (...)\u001b[0m\n\u001b[1;32m   3083\u001b[0m \u001b[38;5;124;03m[(1,), (None,), (2,)]\u001b[39;00m\n\u001b[1;32m   3084\u001b[0m \u001b[38;5;124;03m\"\"\"\u001b[39;00m  \u001b[38;5;66;03m# noqa: E501\u001b[39;00m\n\u001b[1;32m   3085\u001b[0m \u001b[38;5;28;01mfrom\u001b[39;00m \u001b[38;5;21;01mpandas\u001b[39;00m\u001b[38;5;21;01m.\u001b[39;00m\u001b[38;5;21;01mio\u001b[39;00m \u001b[38;5;28;01mimport\u001b[39;00m sql\n\u001b[0;32m-> 3087\u001b[0m \u001b[38;5;28;01mreturn\u001b[39;00m \u001b[43msql\u001b[49m\u001b[38;5;241;43m.\u001b[39;49m\u001b[43mto_sql\u001b[49m\u001b[43m(\u001b[49m\n\u001b[1;32m   3088\u001b[0m \u001b[43m    \u001b[49m\u001b[38;5;28;43mself\u001b[39;49m\u001b[43m,\u001b[49m\n\u001b[1;32m   3089\u001b[0m \u001b[43m    \u001b[49m\u001b[43mname\u001b[49m\u001b[43m,\u001b[49m\n\u001b[1;32m   3090\u001b[0m \u001b[43m    \u001b[49m\u001b[43mcon\u001b[49m\u001b[43m,\u001b[49m\n\u001b[1;32m   3091\u001b[0m \u001b[43m    \u001b[49m\u001b[43mschema\u001b[49m\u001b[38;5;241;43m=\u001b[39;49m\u001b[43mschema\u001b[49m\u001b[43m,\u001b[49m\n\u001b[1;32m   3092\u001b[0m \u001b[43m    \u001b[49m\u001b[43mif_exists\u001b[49m\u001b[38;5;241;43m=\u001b[39;49m\u001b[43mif_exists\u001b[49m\u001b[43m,\u001b[49m\n\u001b[1;32m   3093\u001b[0m \u001b[43m    \u001b[49m\u001b[43mindex\u001b[49m\u001b[38;5;241;43m=\u001b[39;49m\u001b[43mindex\u001b[49m\u001b[43m,\u001b[49m\n\u001b[1;32m   3094\u001b[0m \u001b[43m    \u001b[49m\u001b[43mindex_label\u001b[49m\u001b[38;5;241;43m=\u001b[39;49m\u001b[43mindex_label\u001b[49m\u001b[43m,\u001b[49m\n\u001b[1;32m   3095\u001b[0m \u001b[43m    \u001b[49m\u001b[43mchunksize\u001b[49m\u001b[38;5;241;43m=\u001b[39;49m\u001b[43mchunksize\u001b[49m\u001b[43m,\u001b[49m\n\u001b[1;32m   3096\u001b[0m \u001b[43m    \u001b[49m\u001b[43mdtype\u001b[49m\u001b[38;5;241;43m=\u001b[39;49m\u001b[43mdtype\u001b[49m\u001b[43m,\u001b[49m\n\u001b[1;32m   3097\u001b[0m \u001b[43m    \u001b[49m\u001b[43mmethod\u001b[49m\u001b[38;5;241;43m=\u001b[39;49m\u001b[43mmethod\u001b[49m\u001b[43m,\u001b[49m\n\u001b[1;32m   3098\u001b[0m \u001b[43m\u001b[49m\u001b[43m)\u001b[49m\n",
      "File \u001b[0;32m~/Programming/TUGraz/DB/.venv_db/lib/python3.12/site-packages/pandas/io/sql.py:842\u001b[0m, in \u001b[0;36mto_sql\u001b[0;34m(frame, name, con, schema, if_exists, index, index_label, chunksize, dtype, method, engine, **engine_kwargs)\u001b[0m\n\u001b[1;32m    837\u001b[0m     \u001b[38;5;28;01mraise\u001b[39;00m \u001b[38;5;167;01mNotImplementedError\u001b[39;00m(\n\u001b[1;32m    838\u001b[0m         \u001b[38;5;124m\"\u001b[39m\u001b[38;5;124m'\u001b[39m\u001b[38;5;124mframe\u001b[39m\u001b[38;5;124m'\u001b[39m\u001b[38;5;124m argument should be either a Series or a DataFrame\u001b[39m\u001b[38;5;124m\"\u001b[39m\n\u001b[1;32m    839\u001b[0m     )\n\u001b[1;32m    841\u001b[0m \u001b[38;5;28;01mwith\u001b[39;00m pandasSQL_builder(con, schema\u001b[38;5;241m=\u001b[39mschema, need_transaction\u001b[38;5;241m=\u001b[39m\u001b[38;5;28;01mTrue\u001b[39;00m) \u001b[38;5;28;01mas\u001b[39;00m pandas_sql:\n\u001b[0;32m--> 842\u001b[0m     \u001b[38;5;28;01mreturn\u001b[39;00m \u001b[43mpandas_sql\u001b[49m\u001b[38;5;241;43m.\u001b[39;49m\u001b[43mto_sql\u001b[49m\u001b[43m(\u001b[49m\n\u001b[1;32m    843\u001b[0m \u001b[43m        \u001b[49m\u001b[43mframe\u001b[49m\u001b[43m,\u001b[49m\n\u001b[1;32m    844\u001b[0m \u001b[43m        \u001b[49m\u001b[43mname\u001b[49m\u001b[43m,\u001b[49m\n\u001b[1;32m    845\u001b[0m \u001b[43m        \u001b[49m\u001b[43mif_exists\u001b[49m\u001b[38;5;241;43m=\u001b[39;49m\u001b[43mif_exists\u001b[49m\u001b[43m,\u001b[49m\n\u001b[1;32m    846\u001b[0m \u001b[43m        \u001b[49m\u001b[43mindex\u001b[49m\u001b[38;5;241;43m=\u001b[39;49m\u001b[43mindex\u001b[49m\u001b[43m,\u001b[49m\n\u001b[1;32m    847\u001b[0m \u001b[43m        \u001b[49m\u001b[43mindex_label\u001b[49m\u001b[38;5;241;43m=\u001b[39;49m\u001b[43mindex_label\u001b[49m\u001b[43m,\u001b[49m\n\u001b[1;32m    848\u001b[0m \u001b[43m        \u001b[49m\u001b[43mschema\u001b[49m\u001b[38;5;241;43m=\u001b[39;49m\u001b[43mschema\u001b[49m\u001b[43m,\u001b[49m\n\u001b[1;32m    849\u001b[0m \u001b[43m        \u001b[49m\u001b[43mchunksize\u001b[49m\u001b[38;5;241;43m=\u001b[39;49m\u001b[43mchunksize\u001b[49m\u001b[43m,\u001b[49m\n\u001b[1;32m    850\u001b[0m \u001b[43m        \u001b[49m\u001b[43mdtype\u001b[49m\u001b[38;5;241;43m=\u001b[39;49m\u001b[43mdtype\u001b[49m\u001b[43m,\u001b[49m\n\u001b[1;32m    851\u001b[0m \u001b[43m        \u001b[49m\u001b[43mmethod\u001b[49m\u001b[38;5;241;43m=\u001b[39;49m\u001b[43mmethod\u001b[49m\u001b[43m,\u001b[49m\n\u001b[1;32m    852\u001b[0m \u001b[43m        \u001b[49m\u001b[43mengine\u001b[49m\u001b[38;5;241;43m=\u001b[39;49m\u001b[43mengine\u001b[49m\u001b[43m,\u001b[49m\n\u001b[1;32m    853\u001b[0m \u001b[43m        \u001b[49m\u001b[38;5;241;43m*\u001b[39;49m\u001b[38;5;241;43m*\u001b[39;49m\u001b[43mengine_kwargs\u001b[49m\u001b[43m,\u001b[49m\n\u001b[1;32m    854\u001b[0m \u001b[43m    \u001b[49m\u001b[43m)\u001b[49m\n",
      "File \u001b[0;32m~/Programming/TUGraz/DB/.venv_db/lib/python3.12/site-packages/pandas/io/sql.py:2018\u001b[0m, in \u001b[0;36mSQLDatabase.to_sql\u001b[0;34m(self, frame, name, if_exists, index, index_label, schema, chunksize, dtype, method, engine, **engine_kwargs)\u001b[0m\n\u001b[1;32m   2006\u001b[0m sql_engine \u001b[38;5;241m=\u001b[39m get_engine(engine)\n\u001b[1;32m   2008\u001b[0m table \u001b[38;5;241m=\u001b[39m \u001b[38;5;28mself\u001b[39m\u001b[38;5;241m.\u001b[39mprep_table(\n\u001b[1;32m   2009\u001b[0m     frame\u001b[38;5;241m=\u001b[39mframe,\n\u001b[1;32m   2010\u001b[0m     name\u001b[38;5;241m=\u001b[39mname,\n\u001b[0;32m   (...)\u001b[0m\n\u001b[1;32m   2015\u001b[0m     dtype\u001b[38;5;241m=\u001b[39mdtype,\n\u001b[1;32m   2016\u001b[0m )\n\u001b[0;32m-> 2018\u001b[0m total_inserted \u001b[38;5;241m=\u001b[39m \u001b[43msql_engine\u001b[49m\u001b[38;5;241;43m.\u001b[39;49m\u001b[43minsert_records\u001b[49m\u001b[43m(\u001b[49m\n\u001b[1;32m   2019\u001b[0m \u001b[43m    \u001b[49m\u001b[43mtable\u001b[49m\u001b[38;5;241;43m=\u001b[39;49m\u001b[43mtable\u001b[49m\u001b[43m,\u001b[49m\n\u001b[1;32m   2020\u001b[0m \u001b[43m    \u001b[49m\u001b[43mcon\u001b[49m\u001b[38;5;241;43m=\u001b[39;49m\u001b[38;5;28;43mself\u001b[39;49m\u001b[38;5;241;43m.\u001b[39;49m\u001b[43mcon\u001b[49m\u001b[43m,\u001b[49m\n\u001b[1;32m   2021\u001b[0m \u001b[43m    \u001b[49m\u001b[43mframe\u001b[49m\u001b[38;5;241;43m=\u001b[39;49m\u001b[43mframe\u001b[49m\u001b[43m,\u001b[49m\n\u001b[1;32m   2022\u001b[0m \u001b[43m    \u001b[49m\u001b[43mname\u001b[49m\u001b[38;5;241;43m=\u001b[39;49m\u001b[43mname\u001b[49m\u001b[43m,\u001b[49m\n\u001b[1;32m   2023\u001b[0m \u001b[43m    \u001b[49m\u001b[43mindex\u001b[49m\u001b[38;5;241;43m=\u001b[39;49m\u001b[43mindex\u001b[49m\u001b[43m,\u001b[49m\n\u001b[1;32m   2024\u001b[0m \u001b[43m    \u001b[49m\u001b[43mschema\u001b[49m\u001b[38;5;241;43m=\u001b[39;49m\u001b[43mschema\u001b[49m\u001b[43m,\u001b[49m\n\u001b[1;32m   2025\u001b[0m \u001b[43m    \u001b[49m\u001b[43mchunksize\u001b[49m\u001b[38;5;241;43m=\u001b[39;49m\u001b[43mchunksize\u001b[49m\u001b[43m,\u001b[49m\n\u001b[1;32m   2026\u001b[0m \u001b[43m    \u001b[49m\u001b[43mmethod\u001b[49m\u001b[38;5;241;43m=\u001b[39;49m\u001b[43mmethod\u001b[49m\u001b[43m,\u001b[49m\n\u001b[1;32m   2027\u001b[0m \u001b[43m    \u001b[49m\u001b[38;5;241;43m*\u001b[39;49m\u001b[38;5;241;43m*\u001b[39;49m\u001b[43mengine_kwargs\u001b[49m\u001b[43m,\u001b[49m\n\u001b[1;32m   2028\u001b[0m \u001b[43m\u001b[49m\u001b[43m)\u001b[49m\n\u001b[1;32m   2030\u001b[0m \u001b[38;5;28mself\u001b[39m\u001b[38;5;241m.\u001b[39mcheck_case_sensitive(name\u001b[38;5;241m=\u001b[39mname, schema\u001b[38;5;241m=\u001b[39mschema)\n\u001b[1;32m   2031\u001b[0m \u001b[38;5;28;01mreturn\u001b[39;00m total_inserted\n",
      "File \u001b[0;32m~/Programming/TUGraz/DB/.venv_db/lib/python3.12/site-packages/pandas/io/sql.py:1567\u001b[0m, in \u001b[0;36mSQLAlchemyEngine.insert_records\u001b[0;34m(self, table, con, frame, name, index, schema, chunksize, method, **engine_kwargs)\u001b[0m\n\u001b[1;32m   1565\u001b[0m \u001b[38;5;28;01mif\u001b[39;00m re\u001b[38;5;241m.\u001b[39msearch(msg, err_text):\n\u001b[1;32m   1566\u001b[0m     \u001b[38;5;28;01mraise\u001b[39;00m \u001b[38;5;167;01mValueError\u001b[39;00m(\u001b[38;5;124m\"\u001b[39m\u001b[38;5;124minf cannot be used with MySQL\u001b[39m\u001b[38;5;124m\"\u001b[39m) \u001b[38;5;28;01mfrom\u001b[39;00m \u001b[38;5;21;01merr\u001b[39;00m\n\u001b[0;32m-> 1567\u001b[0m \u001b[38;5;28;01mraise\u001b[39;00m err\n",
      "File \u001b[0;32m~/Programming/TUGraz/DB/.venv_db/lib/python3.12/site-packages/pandas/io/sql.py:1558\u001b[0m, in \u001b[0;36mSQLAlchemyEngine.insert_records\u001b[0;34m(self, table, con, frame, name, index, schema, chunksize, method, **engine_kwargs)\u001b[0m\n\u001b[1;32m   1555\u001b[0m \u001b[38;5;28;01mfrom\u001b[39;00m \u001b[38;5;21;01msqlalchemy\u001b[39;00m \u001b[38;5;28;01mimport\u001b[39;00m exc\n\u001b[1;32m   1557\u001b[0m \u001b[38;5;28;01mtry\u001b[39;00m:\n\u001b[0;32m-> 1558\u001b[0m     \u001b[38;5;28;01mreturn\u001b[39;00m \u001b[43mtable\u001b[49m\u001b[38;5;241;43m.\u001b[39;49m\u001b[43minsert\u001b[49m\u001b[43m(\u001b[49m\u001b[43mchunksize\u001b[49m\u001b[38;5;241;43m=\u001b[39;49m\u001b[43mchunksize\u001b[49m\u001b[43m,\u001b[49m\u001b[43m \u001b[49m\u001b[43mmethod\u001b[49m\u001b[38;5;241;43m=\u001b[39;49m\u001b[43mmethod\u001b[49m\u001b[43m)\u001b[49m\n\u001b[1;32m   1559\u001b[0m \u001b[38;5;28;01mexcept\u001b[39;00m exc\u001b[38;5;241m.\u001b[39mStatementError \u001b[38;5;28;01mas\u001b[39;00m err:\n\u001b[1;32m   1560\u001b[0m     \u001b[38;5;66;03m# GH34431\u001b[39;00m\n\u001b[1;32m   1561\u001b[0m     \u001b[38;5;66;03m# https://stackoverflow.com/a/67358288/6067848\u001b[39;00m\n\u001b[1;32m   1562\u001b[0m     msg \u001b[38;5;241m=\u001b[39m \u001b[38;5;124mr\u001b[39m\u001b[38;5;124m\"\"\"\u001b[39m\u001b[38;5;124m(\u001b[39m\u001b[38;5;124m\\\u001b[39m\u001b[38;5;124m(1054, \u001b[39m\u001b[38;5;124m\"\u001b[39m\u001b[38;5;124mUnknown column \u001b[39m\u001b[38;5;124m'\u001b[39m\u001b[38;5;124minf(e0)?\u001b[39m\u001b[38;5;124m'\u001b[39m\u001b[38;5;124m in \u001b[39m\u001b[38;5;124m'\u001b[39m\u001b[38;5;124mfield list\u001b[39m\u001b[38;5;124m'\u001b[39m\u001b[38;5;124m\"\u001b[39m\u001b[38;5;124m\\\u001b[39m\u001b[38;5;124m))(?#\u001b[39m\n\u001b[1;32m   1563\u001b[0m \u001b[38;5;124m    )|inf can not be used with MySQL\u001b[39m\u001b[38;5;124m\"\"\"\u001b[39m\n",
      "File \u001b[0;32m~/Programming/TUGraz/DB/.venv_db/lib/python3.12/site-packages/pandas/io/sql.py:1119\u001b[0m, in \u001b[0;36mSQLTable.insert\u001b[0;34m(self, chunksize, method)\u001b[0m\n\u001b[1;32m   1116\u001b[0m     \u001b[38;5;28;01mbreak\u001b[39;00m\n\u001b[1;32m   1118\u001b[0m chunk_iter \u001b[38;5;241m=\u001b[39m \u001b[38;5;28mzip\u001b[39m(\u001b[38;5;241m*\u001b[39m(arr[start_i:end_i] \u001b[38;5;28;01mfor\u001b[39;00m arr \u001b[38;5;129;01min\u001b[39;00m data_list))\n\u001b[0;32m-> 1119\u001b[0m num_inserted \u001b[38;5;241m=\u001b[39m \u001b[43mexec_insert\u001b[49m\u001b[43m(\u001b[49m\u001b[43mconn\u001b[49m\u001b[43m,\u001b[49m\u001b[43m \u001b[49m\u001b[43mkeys\u001b[49m\u001b[43m,\u001b[49m\u001b[43m \u001b[49m\u001b[43mchunk_iter\u001b[49m\u001b[43m)\u001b[49m\n\u001b[1;32m   1120\u001b[0m \u001b[38;5;66;03m# GH 46891\u001b[39;00m\n\u001b[1;32m   1121\u001b[0m \u001b[38;5;28;01mif\u001b[39;00m num_inserted \u001b[38;5;129;01mis\u001b[39;00m \u001b[38;5;129;01mnot\u001b[39;00m \u001b[38;5;28;01mNone\u001b[39;00m:\n",
      "File \u001b[0;32m~/Programming/TUGraz/DB/.venv_db/lib/python3.12/site-packages/pandas/io/sql.py:1010\u001b[0m, in \u001b[0;36mSQLTable._execute_insert\u001b[0;34m(self, conn, keys, data_iter)\u001b[0m\n\u001b[1;32m    998\u001b[0m \u001b[38;5;250m\u001b[39m\u001b[38;5;124;03m\"\"\"\u001b[39;00m\n\u001b[1;32m    999\u001b[0m \u001b[38;5;124;03mExecute SQL statement inserting data\u001b[39;00m\n\u001b[1;32m   1000\u001b[0m \n\u001b[0;32m   (...)\u001b[0m\n\u001b[1;32m   1007\u001b[0m \u001b[38;5;124;03m   Each item contains a list of values to be inserted\u001b[39;00m\n\u001b[1;32m   1008\u001b[0m \u001b[38;5;124;03m\"\"\"\u001b[39;00m\n\u001b[1;32m   1009\u001b[0m data \u001b[38;5;241m=\u001b[39m [\u001b[38;5;28mdict\u001b[39m(\u001b[38;5;28mzip\u001b[39m(keys, row)) \u001b[38;5;28;01mfor\u001b[39;00m row \u001b[38;5;129;01min\u001b[39;00m data_iter]\n\u001b[0;32m-> 1010\u001b[0m result \u001b[38;5;241m=\u001b[39m \u001b[43mconn\u001b[49m\u001b[38;5;241;43m.\u001b[39;49m\u001b[43mexecute\u001b[49m\u001b[43m(\u001b[49m\u001b[38;5;28;43mself\u001b[39;49m\u001b[38;5;241;43m.\u001b[39;49m\u001b[43mtable\u001b[49m\u001b[38;5;241;43m.\u001b[39;49m\u001b[43minsert\u001b[49m\u001b[43m(\u001b[49m\u001b[43m)\u001b[49m\u001b[43m,\u001b[49m\u001b[43m \u001b[49m\u001b[43mdata\u001b[49m\u001b[43m)\u001b[49m\n\u001b[1;32m   1011\u001b[0m \u001b[38;5;28;01mreturn\u001b[39;00m result\u001b[38;5;241m.\u001b[39mrowcount\n",
      "File \u001b[0;32m~/Programming/TUGraz/DB/.venv_db/lib/python3.12/site-packages/sqlalchemy/engine/base.py:1418\u001b[0m, in \u001b[0;36mConnection.execute\u001b[0;34m(self, statement, parameters, execution_options)\u001b[0m\n\u001b[1;32m   1416\u001b[0m     \u001b[38;5;28;01mraise\u001b[39;00m exc\u001b[38;5;241m.\u001b[39mObjectNotExecutableError(statement) \u001b[38;5;28;01mfrom\u001b[39;00m \u001b[38;5;21;01merr\u001b[39;00m\n\u001b[1;32m   1417\u001b[0m \u001b[38;5;28;01melse\u001b[39;00m:\n\u001b[0;32m-> 1418\u001b[0m     \u001b[38;5;28;01mreturn\u001b[39;00m \u001b[43mmeth\u001b[49m\u001b[43m(\u001b[49m\n\u001b[1;32m   1419\u001b[0m \u001b[43m        \u001b[49m\u001b[38;5;28;43mself\u001b[39;49m\u001b[43m,\u001b[49m\n\u001b[1;32m   1420\u001b[0m \u001b[43m        \u001b[49m\u001b[43mdistilled_parameters\u001b[49m\u001b[43m,\u001b[49m\n\u001b[1;32m   1421\u001b[0m \u001b[43m        \u001b[49m\u001b[43mexecution_options\u001b[49m\u001b[43m \u001b[49m\u001b[38;5;129;43;01mor\u001b[39;49;00m\u001b[43m \u001b[49m\u001b[43mNO_OPTIONS\u001b[49m\u001b[43m,\u001b[49m\n\u001b[1;32m   1422\u001b[0m \u001b[43m    \u001b[49m\u001b[43m)\u001b[49m\n",
      "File \u001b[0;32m~/Programming/TUGraz/DB/.venv_db/lib/python3.12/site-packages/sqlalchemy/sql/elements.py:515\u001b[0m, in \u001b[0;36mClauseElement._execute_on_connection\u001b[0;34m(self, connection, distilled_params, execution_options)\u001b[0m\n\u001b[1;32m    513\u001b[0m     \u001b[38;5;28;01mif\u001b[39;00m TYPE_CHECKING:\n\u001b[1;32m    514\u001b[0m         \u001b[38;5;28;01massert\u001b[39;00m \u001b[38;5;28misinstance\u001b[39m(\u001b[38;5;28mself\u001b[39m, Executable)\n\u001b[0;32m--> 515\u001b[0m     \u001b[38;5;28;01mreturn\u001b[39;00m \u001b[43mconnection\u001b[49m\u001b[38;5;241;43m.\u001b[39;49m\u001b[43m_execute_clauseelement\u001b[49m\u001b[43m(\u001b[49m\n\u001b[1;32m    516\u001b[0m \u001b[43m        \u001b[49m\u001b[38;5;28;43mself\u001b[39;49m\u001b[43m,\u001b[49m\u001b[43m \u001b[49m\u001b[43mdistilled_params\u001b[49m\u001b[43m,\u001b[49m\u001b[43m \u001b[49m\u001b[43mexecution_options\u001b[49m\n\u001b[1;32m    517\u001b[0m \u001b[43m    \u001b[49m\u001b[43m)\u001b[49m\n\u001b[1;32m    518\u001b[0m \u001b[38;5;28;01melse\u001b[39;00m:\n\u001b[1;32m    519\u001b[0m     \u001b[38;5;28;01mraise\u001b[39;00m exc\u001b[38;5;241m.\u001b[39mObjectNotExecutableError(\u001b[38;5;28mself\u001b[39m)\n",
      "File \u001b[0;32m~/Programming/TUGraz/DB/.venv_db/lib/python3.12/site-packages/sqlalchemy/engine/base.py:1640\u001b[0m, in \u001b[0;36mConnection._execute_clauseelement\u001b[0;34m(self, elem, distilled_parameters, execution_options)\u001b[0m\n\u001b[1;32m   1628\u001b[0m compiled_cache: Optional[CompiledCacheType] \u001b[38;5;241m=\u001b[39m execution_options\u001b[38;5;241m.\u001b[39mget(\n\u001b[1;32m   1629\u001b[0m     \u001b[38;5;124m\"\u001b[39m\u001b[38;5;124mcompiled_cache\u001b[39m\u001b[38;5;124m\"\u001b[39m, \u001b[38;5;28mself\u001b[39m\u001b[38;5;241m.\u001b[39mengine\u001b[38;5;241m.\u001b[39m_compiled_cache\n\u001b[1;32m   1630\u001b[0m )\n\u001b[1;32m   1632\u001b[0m compiled_sql, extracted_params, cache_hit \u001b[38;5;241m=\u001b[39m elem\u001b[38;5;241m.\u001b[39m_compile_w_cache(\n\u001b[1;32m   1633\u001b[0m     dialect\u001b[38;5;241m=\u001b[39mdialect,\n\u001b[1;32m   1634\u001b[0m     compiled_cache\u001b[38;5;241m=\u001b[39mcompiled_cache,\n\u001b[0;32m   (...)\u001b[0m\n\u001b[1;32m   1638\u001b[0m     linting\u001b[38;5;241m=\u001b[39m\u001b[38;5;28mself\u001b[39m\u001b[38;5;241m.\u001b[39mdialect\u001b[38;5;241m.\u001b[39mcompiler_linting \u001b[38;5;241m|\u001b[39m compiler\u001b[38;5;241m.\u001b[39mWARN_LINTING,\n\u001b[1;32m   1639\u001b[0m )\n\u001b[0;32m-> 1640\u001b[0m ret \u001b[38;5;241m=\u001b[39m \u001b[38;5;28;43mself\u001b[39;49m\u001b[38;5;241;43m.\u001b[39;49m\u001b[43m_execute_context\u001b[49m\u001b[43m(\u001b[49m\n\u001b[1;32m   1641\u001b[0m \u001b[43m    \u001b[49m\u001b[43mdialect\u001b[49m\u001b[43m,\u001b[49m\n\u001b[1;32m   1642\u001b[0m \u001b[43m    \u001b[49m\u001b[43mdialect\u001b[49m\u001b[38;5;241;43m.\u001b[39;49m\u001b[43mexecution_ctx_cls\u001b[49m\u001b[38;5;241;43m.\u001b[39;49m\u001b[43m_init_compiled\u001b[49m\u001b[43m,\u001b[49m\n\u001b[1;32m   1643\u001b[0m \u001b[43m    \u001b[49m\u001b[43mcompiled_sql\u001b[49m\u001b[43m,\u001b[49m\n\u001b[1;32m   1644\u001b[0m \u001b[43m    \u001b[49m\u001b[43mdistilled_parameters\u001b[49m\u001b[43m,\u001b[49m\n\u001b[1;32m   1645\u001b[0m \u001b[43m    \u001b[49m\u001b[43mexecution_options\u001b[49m\u001b[43m,\u001b[49m\n\u001b[1;32m   1646\u001b[0m \u001b[43m    \u001b[49m\u001b[43mcompiled_sql\u001b[49m\u001b[43m,\u001b[49m\n\u001b[1;32m   1647\u001b[0m \u001b[43m    \u001b[49m\u001b[43mdistilled_parameters\u001b[49m\u001b[43m,\u001b[49m\n\u001b[1;32m   1648\u001b[0m \u001b[43m    \u001b[49m\u001b[43melem\u001b[49m\u001b[43m,\u001b[49m\n\u001b[1;32m   1649\u001b[0m \u001b[43m    \u001b[49m\u001b[43mextracted_params\u001b[49m\u001b[43m,\u001b[49m\n\u001b[1;32m   1650\u001b[0m \u001b[43m    \u001b[49m\u001b[43mcache_hit\u001b[49m\u001b[38;5;241;43m=\u001b[39;49m\u001b[43mcache_hit\u001b[49m\u001b[43m,\u001b[49m\n\u001b[1;32m   1651\u001b[0m \u001b[43m\u001b[49m\u001b[43m)\u001b[49m\n\u001b[1;32m   1652\u001b[0m \u001b[38;5;28;01mif\u001b[39;00m has_events:\n\u001b[1;32m   1653\u001b[0m     \u001b[38;5;28mself\u001b[39m\u001b[38;5;241m.\u001b[39mdispatch\u001b[38;5;241m.\u001b[39mafter_execute(\n\u001b[1;32m   1654\u001b[0m         \u001b[38;5;28mself\u001b[39m,\n\u001b[1;32m   1655\u001b[0m         elem,\n\u001b[0;32m   (...)\u001b[0m\n\u001b[1;32m   1659\u001b[0m         ret,\n\u001b[1;32m   1660\u001b[0m     )\n",
      "File \u001b[0;32m~/Programming/TUGraz/DB/.venv_db/lib/python3.12/site-packages/sqlalchemy/engine/base.py:1844\u001b[0m, in \u001b[0;36mConnection._execute_context\u001b[0;34m(self, dialect, constructor, statement, parameters, execution_options, *args, **kw)\u001b[0m\n\u001b[1;32m   1841\u001b[0m context\u001b[38;5;241m.\u001b[39mpre_exec()\n\u001b[1;32m   1843\u001b[0m \u001b[38;5;28;01mif\u001b[39;00m context\u001b[38;5;241m.\u001b[39mexecute_style \u001b[38;5;129;01mis\u001b[39;00m ExecuteStyle\u001b[38;5;241m.\u001b[39mINSERTMANYVALUES:\n\u001b[0;32m-> 1844\u001b[0m     \u001b[38;5;28;01mreturn\u001b[39;00m \u001b[38;5;28;43mself\u001b[39;49m\u001b[38;5;241;43m.\u001b[39;49m\u001b[43m_exec_insertmany_context\u001b[49m\u001b[43m(\u001b[49m\u001b[43mdialect\u001b[49m\u001b[43m,\u001b[49m\u001b[43m \u001b[49m\u001b[43mcontext\u001b[49m\u001b[43m)\u001b[49m\n\u001b[1;32m   1845\u001b[0m \u001b[38;5;28;01melse\u001b[39;00m:\n\u001b[1;32m   1846\u001b[0m     \u001b[38;5;28;01mreturn\u001b[39;00m \u001b[38;5;28mself\u001b[39m\u001b[38;5;241m.\u001b[39m_exec_single_context(\n\u001b[1;32m   1847\u001b[0m         dialect, context, statement, parameters\n\u001b[1;32m   1848\u001b[0m     )\n",
      "File \u001b[0;32m~/Programming/TUGraz/DB/.venv_db/lib/python3.12/site-packages/sqlalchemy/engine/base.py:2126\u001b[0m, in \u001b[0;36mConnection._exec_insertmany_context\u001b[0;34m(self, dialect, context)\u001b[0m\n\u001b[1;32m   2118\u001b[0m         dialect\u001b[38;5;241m.\u001b[39mdo_execute(\n\u001b[1;32m   2119\u001b[0m             cursor,\n\u001b[1;32m   2120\u001b[0m             sub_stmt,\n\u001b[1;32m   2121\u001b[0m             sub_params,\n\u001b[1;32m   2122\u001b[0m             context,\n\u001b[1;32m   2123\u001b[0m         )\n\u001b[1;32m   2125\u001b[0m \u001b[38;5;28;01mexcept\u001b[39;00m \u001b[38;5;167;01mBaseException\u001b[39;00m \u001b[38;5;28;01mas\u001b[39;00m e:\n\u001b[0;32m-> 2126\u001b[0m     \u001b[38;5;28;43mself\u001b[39;49m\u001b[38;5;241;43m.\u001b[39;49m\u001b[43m_handle_dbapi_exception\u001b[49m\u001b[43m(\u001b[49m\n\u001b[1;32m   2127\u001b[0m \u001b[43m        \u001b[49m\u001b[43me\u001b[49m\u001b[43m,\u001b[49m\n\u001b[1;32m   2128\u001b[0m \u001b[43m        \u001b[49m\u001b[43msql_util\u001b[49m\u001b[38;5;241;43m.\u001b[39;49m\u001b[43m_long_statement\u001b[49m\u001b[43m(\u001b[49m\u001b[43msub_stmt\u001b[49m\u001b[43m)\u001b[49m\u001b[43m,\u001b[49m\n\u001b[1;32m   2129\u001b[0m \u001b[43m        \u001b[49m\u001b[43msub_params\u001b[49m\u001b[43m,\u001b[49m\n\u001b[1;32m   2130\u001b[0m \u001b[43m        \u001b[49m\u001b[43mcursor\u001b[49m\u001b[43m,\u001b[49m\n\u001b[1;32m   2131\u001b[0m \u001b[43m        \u001b[49m\u001b[43mcontext\u001b[49m\u001b[43m,\u001b[49m\n\u001b[1;32m   2132\u001b[0m \u001b[43m        \u001b[49m\u001b[43mis_sub_exec\u001b[49m\u001b[38;5;241;43m=\u001b[39;49m\u001b[38;5;28;43;01mTrue\u001b[39;49;00m\u001b[43m,\u001b[49m\n\u001b[1;32m   2133\u001b[0m \u001b[43m    \u001b[49m\u001b[43m)\u001b[49m\n\u001b[1;32m   2135\u001b[0m \u001b[38;5;28;01mif\u001b[39;00m engine_events:\n\u001b[1;32m   2136\u001b[0m     \u001b[38;5;28mself\u001b[39m\u001b[38;5;241m.\u001b[39mdispatch\u001b[38;5;241m.\u001b[39mafter_cursor_execute(\n\u001b[1;32m   2137\u001b[0m         \u001b[38;5;28mself\u001b[39m,\n\u001b[1;32m   2138\u001b[0m         cursor,\n\u001b[0;32m   (...)\u001b[0m\n\u001b[1;32m   2142\u001b[0m         context\u001b[38;5;241m.\u001b[39mexecutemany,\n\u001b[1;32m   2143\u001b[0m     )\n",
      "File \u001b[0;32m~/Programming/TUGraz/DB/.venv_db/lib/python3.12/site-packages/sqlalchemy/engine/base.py:2355\u001b[0m, in \u001b[0;36mConnection._handle_dbapi_exception\u001b[0;34m(self, e, statement, parameters, cursor, context, is_sub_exec)\u001b[0m\n\u001b[1;32m   2353\u001b[0m \u001b[38;5;28;01melif\u001b[39;00m should_wrap:\n\u001b[1;32m   2354\u001b[0m     \u001b[38;5;28;01massert\u001b[39;00m sqlalchemy_exception \u001b[38;5;129;01mis\u001b[39;00m \u001b[38;5;129;01mnot\u001b[39;00m \u001b[38;5;28;01mNone\u001b[39;00m\n\u001b[0;32m-> 2355\u001b[0m     \u001b[38;5;28;01mraise\u001b[39;00m sqlalchemy_exception\u001b[38;5;241m.\u001b[39mwith_traceback(exc_info[\u001b[38;5;241m2\u001b[39m]) \u001b[38;5;28;01mfrom\u001b[39;00m \u001b[38;5;21;01me\u001b[39;00m\n\u001b[1;32m   2356\u001b[0m \u001b[38;5;28;01melse\u001b[39;00m:\n\u001b[1;32m   2357\u001b[0m     \u001b[38;5;28;01massert\u001b[39;00m exc_info[\u001b[38;5;241m1\u001b[39m] \u001b[38;5;129;01mis\u001b[39;00m \u001b[38;5;129;01mnot\u001b[39;00m \u001b[38;5;28;01mNone\u001b[39;00m\n",
      "File \u001b[0;32m~/Programming/TUGraz/DB/.venv_db/lib/python3.12/site-packages/sqlalchemy/engine/base.py:2118\u001b[0m, in \u001b[0;36mConnection._exec_insertmany_context\u001b[0;34m(self, dialect, context)\u001b[0m\n\u001b[1;32m   2116\u001b[0m             \u001b[38;5;28;01mbreak\u001b[39;00m\n\u001b[1;32m   2117\u001b[0m     \u001b[38;5;28;01melse\u001b[39;00m:\n\u001b[0;32m-> 2118\u001b[0m         \u001b[43mdialect\u001b[49m\u001b[38;5;241;43m.\u001b[39;49m\u001b[43mdo_execute\u001b[49m\u001b[43m(\u001b[49m\n\u001b[1;32m   2119\u001b[0m \u001b[43m            \u001b[49m\u001b[43mcursor\u001b[49m\u001b[43m,\u001b[49m\n\u001b[1;32m   2120\u001b[0m \u001b[43m            \u001b[49m\u001b[43msub_stmt\u001b[49m\u001b[43m,\u001b[49m\n\u001b[1;32m   2121\u001b[0m \u001b[43m            \u001b[49m\u001b[43msub_params\u001b[49m\u001b[43m,\u001b[49m\n\u001b[1;32m   2122\u001b[0m \u001b[43m            \u001b[49m\u001b[43mcontext\u001b[49m\u001b[43m,\u001b[49m\n\u001b[1;32m   2123\u001b[0m \u001b[43m        \u001b[49m\u001b[43m)\u001b[49m\n\u001b[1;32m   2125\u001b[0m \u001b[38;5;28;01mexcept\u001b[39;00m \u001b[38;5;167;01mBaseException\u001b[39;00m \u001b[38;5;28;01mas\u001b[39;00m e:\n\u001b[1;32m   2126\u001b[0m     \u001b[38;5;28mself\u001b[39m\u001b[38;5;241m.\u001b[39m_handle_dbapi_exception(\n\u001b[1;32m   2127\u001b[0m         e,\n\u001b[1;32m   2128\u001b[0m         sql_util\u001b[38;5;241m.\u001b[39m_long_statement(sub_stmt),\n\u001b[0;32m   (...)\u001b[0m\n\u001b[1;32m   2132\u001b[0m         is_sub_exec\u001b[38;5;241m=\u001b[39m\u001b[38;5;28;01mTrue\u001b[39;00m,\n\u001b[1;32m   2133\u001b[0m     )\n",
      "File \u001b[0;32m~/Programming/TUGraz/DB/.venv_db/lib/python3.12/site-packages/sqlalchemy/engine/default.py:941\u001b[0m, in \u001b[0;36mDefaultDialect.do_execute\u001b[0;34m(self, cursor, statement, parameters, context)\u001b[0m\n\u001b[1;32m    940\u001b[0m \u001b[38;5;28;01mdef\u001b[39;00m \u001b[38;5;21mdo_execute\u001b[39m(\u001b[38;5;28mself\u001b[39m, cursor, statement, parameters, context\u001b[38;5;241m=\u001b[39m\u001b[38;5;28;01mNone\u001b[39;00m):\n\u001b[0;32m--> 941\u001b[0m     \u001b[43mcursor\u001b[49m\u001b[38;5;241;43m.\u001b[39;49m\u001b[43mexecute\u001b[49m\u001b[43m(\u001b[49m\u001b[43mstatement\u001b[49m\u001b[43m,\u001b[49m\u001b[43m \u001b[49m\u001b[43mparameters\u001b[49m\u001b[43m)\u001b[49m\n",
      "\u001b[0;31mIntegrityError\u001b[0m: (psycopg2.errors.ForeignKeyViolation) insert or update on table \"Company_Tbl\" violates foreign key constraint \"fk_index_id\"\nDETAIL:  Key (Index_ID)=(^STOXX50E) is not present in table \"Index_Tbl\".\n\n[SQL: INSERT INTO project_db.\"Company_Tbl\" (\"Company_ID\", \"Company_Name\", \"Activity_ID\", \"Country_Headquarter\", \"Index_ID\") VALUES (%(Company_ID__0)s, %(Company_Name__0)s, %(Activity_ID__0)s, %(Country_Headquarter__0)s, %(Index_ID__0)s), (%(Company_ID__1)s ... 5323 characters truncated ... _ID__49)s, %(Company_Name__49)s, %(Activity_ID__49)s, %(Country_Headquarter__49)s, %(Index_ID__49)s)]\n[parameters: {'Company_ID__0': 'ABI.BR', 'Country_Headquarter__0': 4, 'Activity_ID__0': 14, 'Company_Name__0': 'Anheuser-Busch InBev SA/NV', 'Index_ID__0': '^STOXX50E', 'Company_ID__1': 'AI.PA', 'Country_Headquarter__1': 6, 'Activity_ID__1': 20, 'Company_Name__1': 'Air Liquide S.A.', 'Index_ID__1': '^STOXX50E', 'Company_ID__2': 'AIR.PA', 'Country_Headquarter__2': 5, 'Activity_ID__2': 7, 'Company_Name__2': 'Airbus SE', 'Index_ID__2': '^STOXX50E', 'Company_ID__3': 'ALV.DE', 'Country_Headquarter__3': 3, 'Activity_ID__3': 22, 'Company_Name__3': 'Allianz SE', 'Index_ID__3': '^STOXX50E', 'Company_ID__4': 'ASML.AS', 'Country_Headquarter__4': 5, 'Activity_ID__4': 6, 'Company_Name__4': 'ASML Holding N.V.', 'Index_ID__4': '^STOXX50E', 'Company_ID__5': 'BAS.DE', 'Country_Headquarter__5': 3, 'Activity_ID__5': 21, 'Company_Name__5': 'BASF SE', 'Index_ID__5': '^STOXX50E', 'Company_ID__6': 'BBVA.MC', 'Country_Headquarter__6': 8, 'Activity_ID__6': 29, 'Company_Name__6': 'Banco Bilbao Vizcaya Argentaria, S.A.', 'Index_ID__6': '^STOXX50E', 'Company_ID__7': 'BAYN.DE', 'Country_Headquarter__7': 3, 'Activity_ID__7': 18, 'Company_Name__7': 'Bayer AG', 'Index_ID__7': '^STOXX50E', 'Company_ID__8': 'BN.PA', 'Country_Headquarter__8': 6, 'Activity_ID__8': 15, 'Company_Name__8': 'Danone S.A.', 'Index_ID__8': '^STOXX50E', 'Company_ID__9': 'CRG.IR', 'Country_Headquarter__9': 1, 'Activity_ID__9': 4, 'Company_Name__9': 'CRH plc', 'Index_ID__9': '^STOXX50E' ... 150 parameters truncated ... 'Company_ID__40': 'SLHN.SW', 'Country_Headquarter__40': 2, 'Activity_ID__40': 22, 'Company_Name__40': 'Swiss Life Holding AG', 'Index_ID__40': '^STOXX50E', 'Company_ID__41': 'SREN.SW', 'Country_Headquarter__41': 2, 'Activity_ID__41': 5, 'Company_Name__41': 'Swiss Re AG', 'Index_ID__41': '^STOXX50E', 'Company_ID__42': 'SU.PA', 'Country_Headquarter__42': 6, 'Activity_ID__42': 1, 'Company_Name__42': 'Schneider Electric S.E.', 'Index_ID__42': '^STOXX50E', 'Company_ID__43': 'TEF.MC', 'Country_Headquarter__43': 8, 'Activity_ID__43': 11, 'Company_Name__43': 'Telefonica S.A.', 'Index_ID__43': '^STOXX50E', 'Company_ID__44': 'UCG.MI', 'Country_Headquarter__44': 7, 'Activity_ID__44': 25, 'Company_Name__44': 'UniCredit S.p.A.', 'Index_ID__44': '^STOXX50E', 'Company_ID__45': 'UL.PA', 'Country_Headquarter__45': 1, 'Activity_ID__45': 4, 'Company_Name__45': 'Unibail-Rodamco-Westfield SE', 'Index_ID__45': '^STOXX50E', 'Company_ID__46': 'VIV.PA', 'Country_Headquarter__46': 6, 'Activity_ID__46': 30, 'Company_Name__46': 'Vivendi SE', 'Index_ID__46': '^STOXX50E', 'Company_ID__47': 'VOW3.DE', 'Country_Headquarter__47': 3, 'Activity_ID__47': 2, 'Company_Name__47': 'Volkswagen AG (Vorzugsaktie)', 'Index_ID__47': '^STOXX50E', 'Company_ID__48': 'WKL.AS', 'Country_Headquarter__48': 5, 'Activity_ID__48': 3, 'Company_Name__48': 'Wolters Kluwer N.V.', 'Index_ID__48': '^STOXX50E', 'Company_ID__49': 'ZURN.SW', 'Country_Headquarter__49': 2, 'Activity_ID__49': 22, 'Company_Name__49': 'Zurich Insurance Group AG', 'Index_ID__49': '^STOXX50E'}]\n(Background on this error at: https://sqlalche.me/e/20/gkpj)"
     ]
    }
   ],
   "source": [
    "## GET AND WRITE DATA INTO Company_Tbl\n",
    "\n",
    "company = pd.read_csv(\"Company_tbl.csv\", sep=\";\", encoding=\"utf-8\")\n",
    "\n",
    "company.to_sql(\n",
    "    name=\"Company_Tbl\",\n",
    "    con=engine,\n",
    "    schema=schema,\n",
    "    if_exists=\"append\",\n",
    "    index=False\n",
    ")\n"
   ]
  }
 ],
 "metadata": {
  "kernelspec": {
   "display_name": ".venv_db",
   "language": "python",
   "name": "python3"
  },
  "language_info": {
   "codemirror_mode": {
    "name": "ipython",
    "version": 3
   },
   "file_extension": ".py",
   "mimetype": "text/x-python",
   "name": "python",
   "nbconvert_exporter": "python",
   "pygments_lexer": "ipython3",
   "version": "3.12.5"
  }
 },
 "nbformat": 4,
 "nbformat_minor": 2
}
